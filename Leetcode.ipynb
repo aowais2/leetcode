{
  "nbformat": 4,
  "nbformat_minor": 0,
  "metadata": {
    "colab": {
      "provenance": [],
      "toc_visible": true,
      "authorship_tag": "ABX9TyNCrB6iSAKp11U+ACcCL2la",
      "include_colab_link": true
    },
    "kernelspec": {
      "name": "python3",
      "display_name": "Python 3"
    },
    "language_info": {
      "name": "python"
    }
  },
  "cells": [
    {
      "cell_type": "markdown",
      "metadata": {
        "id": "view-in-github",
        "colab_type": "text"
      },
      "source": [
        "<a href=\"https://colab.research.google.com/github/aowais2/leetcode/blob/main/Leetcode.ipynb\" target=\"_parent\"><img src=\"https://colab.research.google.com/assets/colab-badge.svg\" alt=\"Open In Colab\"/></a>"
      ]
    },
    {
      "cell_type": "markdown",
      "source": [
        "# Notes\n",
        "\n",
        "*   Python Concepts: Decorators, Polymorphism, Abstraction, Overloading, Walrus Operators, abstract class, lambda functions, Call by value, ref, object ref\n",
        "*  Data Structures: Stack, Q, Tree, Heap, Hash maps, Graphs\n",
        "*  Algorithms: Sort, Search, DP (memoization, tabulation), Graph algo, Recursion\n",
        "*  Systems Design: Design Patterns\n",
        "\n",
        "**Patterns Observed**\n",
        "\n",
        "* Traversing through 1-D arrays or strings is best done through Hash maps, Hash sets\n",
        "* For calculating areas or traversing through 1-D arrays, two pointers are a good option\n",
        "* Graph search using DFS/BFS: Good for checking 2-D structures with neighbors/layers adjacent to a starting point\n",
        "  * Building Relationships into vertices with edges\n",
        "\n",
        "\n"
      ],
      "metadata": {
        "id": "lfWetmia8Wjw"
      }
    },
    {
      "cell_type": "markdown",
      "source": [
        "**Graphs**\n",
        "\n",
        "200 \tMedium \tNumber of Islands\n",
        "\n",
        "133 \tMedium \tClone Graph\n",
        "\n",
        "695 \tMedium \tMax Area of Island\n",
        "\n",
        "417 \tMedium \tPacific Atlantic Water Flow\n",
        "\n",
        "130 \tMedium \tSurrounded Regions\n",
        "\n",
        "994 \tMedium \tRotting Oranges\n",
        "\n",
        "286 \tMedium \tWalls and Gates\n",
        "\n",
        "207 \tMedium \t*Course Schedule*\n",
        "\n",
        "210 \tMedium \t*Course Schedule II*\n",
        "\n",
        "684 \tMedium \tRedundant Connection\n",
        "\n",
        "323 \tMedium \tNumber of Connected Components In An Undirected Graph\n",
        "\n",
        "261 \tMedium \tGraph Valid Tree\n",
        "\n",
        "127 \tHard \tWord Ladder\n",
        "\n",
        "**Advanced Graphs**\n",
        "\n",
        "332 \tHard \tReconstruct Itinerary\n",
        "\n",
        "1584 \tMedium \tMin Cost to Connect All Points\n",
        "\n",
        "743 \tMedium \tNetwork Delay Time\n",
        "\n",
        "778 \tHard \tSwim in Rising Water\n",
        "\n",
        "269 \tHard \tAlien Dictionary\n",
        "\n",
        "787 \tMedium \t*Cheapest Flights Within K Stops*\n",
        "\n",
        "**1-D Dynamic Programming**\n",
        "\n",
        "70 \tEasy \tClimbing Stairs\n",
        "\n",
        "746 \tEasy \tMin Cost Climbing Stairs\n",
        "\n",
        "198 \tMedium \tHouse Robber\n",
        "\n",
        "213 \tMedium \tHouse Robber II\n",
        "\n",
        "5 \tMedium \tLongest Palindromic Substring\n",
        "\n",
        "647 \tMedium \tPalindromic Substrings\n",
        "\n",
        "91 \tMedium \tDecode Ways\n",
        "\n",
        "322 \tMedium \tCoin Change\n",
        "\n",
        "152 \tMedium \tMaximum Product Subarray\n",
        "\n",
        "139 \tMedium \tWord Break\n",
        "\n",
        "300 \tMedium \tLongest Increasing Subsequence\n",
        "\n",
        "416 \tMedium \tPartition Equal Subset Sum\n",
        "\n",
        "\n",
        "**2-D Dynamic Programing**\n",
        "\n",
        "62 \tMedium \tUnique Paths\n",
        "\n",
        "1143 \tMedium \tLongest Common Subsequence\n",
        "\n",
        "309 \tMedium \tBest Time to Buy and Sell Stock with Cooldown\n",
        "\n",
        "518 \tMedium \tCoin Change II\n",
        "\n",
        "494 \tMedium \tTarget Sum\n",
        "\n",
        "97 \tMedium \tInterleaving String\n",
        "\n",
        "329 \tHard \tLongest Increasing Path in a Matrix\n",
        "\n",
        "115 \tHard \tDistinct Subsequences\n",
        "\n",
        "72 \tHard \tEdit Distance\n",
        "\n",
        "312 \tHard \tBurst Balloons\n",
        "\n",
        "10 \tHard \tRegular Expression Matching\n",
        "\n",
        "\n",
        "**Backtracking**\n",
        "\n",
        "78 \tMedium  Subsets \tC++ • Python • Rust\n",
        "\n",
        "39 \tMedium \tCombination Sum \tC++ • Python • Rust\n",
        "\n",
        "46 \tMedium \tPermutations \tC++ • Python • Rust\n",
        "\n",
        "90 \tMedium \tSubsets II \tC++ • Python • Rust\n",
        "\n",
        "40 \tMedium \tCombination Sum II \tC++ • Python • Rust\n",
        "\n",
        "79 \tMedium \tWord Search \tC++ • Python • Rust\n",
        "\n",
        "131 \tMedium \tPalindrome Partitioning \tC++ • Python • Rust\n",
        "\n",
        "17 \tMedium \tLetter Combinations of a Phone Number \tC++ • Python • Rust\n",
        "\n",
        "51 \tHard \tN-Queens \tC++ • Python • Rust\n",
        "\n",
        "\n",
        "    Big-O analysis of run-time complexity for known or created algorithms.\n",
        "\n",
        "    Sorting: Know at least one n*log(n) sorting algorithm, preferably two (ex, quicksort and mergesort)\n",
        "\n",
        "    Hashtables and heaps\n",
        "\n",
        "    Trees Implementation: Binary trees, n-ary trees, and trie-trees. Balanced binary tree, whether it's a red/black tree, a splay tree or an AVL tree\n",
        "\n",
        "https://leetracer.com/screener"
      ],
      "metadata": {
        "id": "KTnTtT0_EHuV"
      }
    },
    {
      "cell_type": "markdown",
      "source": [
        "# Arrays and Hashing"
      ],
      "metadata": {
        "id": "khO7gnRYnnYP"
      }
    },
    {
      "cell_type": "markdown",
      "source": [
        "## Contains Dupicates\n",
        "\n",
        "Given an integer array nums, return true if any value appears at least twice in the array, and return false if every element is distinct.\n",
        "\n",
        "Example 1:\n",
        "Input: nums = [1,2,3,1]\n",
        "Output: true\n",
        "\n",
        "Example 2:\n",
        "Input: nums = [1,2,3,4]\n",
        "Output: false\n",
        "\n",
        "Example 3:\n",
        "Input: nums = [1,1,1,3,3,4,3,2,4,2]\n",
        "Output: true"
      ],
      "metadata": {
        "id": "uSPAiS5JnvZW"
      }
    },
    {
      "cell_type": "code",
      "source": [
        "class Duplicates:\n",
        "    def containsDuplicate(self, nums: list[int]) -> bool:\n",
        "      unique_values = set()\n",
        "      for num in nums:\n",
        "        if num in unique_values:\n",
        "          return True\n",
        "        unique_values.add(num)\n",
        "      return False"
      ],
      "metadata": {
        "id": "od__pOxon8ej"
      },
      "execution_count": null,
      "outputs": []
    },
    {
      "cell_type": "code",
      "source": [
        "# Create a set of unique values\n",
        "# If another occurrence of values in the set occurs, there is a duplicate\n",
        "\n",
        "nums = [1,1,1,3,3,4,3,2,4,2]\n",
        "dup = Duplicates()\n",
        "dup.containsDuplicate(nums)"
      ],
      "metadata": {
        "colab": {
          "base_uri": "https://localhost:8080/"
        },
        "id": "DVxiYcirsPE0",
        "outputId": "e0b12826-8935-4f9f-efbb-a816260db6bc"
      },
      "execution_count": null,
      "outputs": [
        {
          "output_type": "execute_result",
          "data": {
            "text/plain": [
              "True"
            ]
          },
          "metadata": {},
          "execution_count": 32
        }
      ]
    },
    {
      "cell_type": "markdown",
      "source": [
        "## Valid Anagram\n",
        "\n",
        "Given two strings s and t, return true if t is an anagram of s, and false otherwise.\n",
        "\n",
        "An Anagram is a word or phrase formed by rearranging the letters of a different word or phrase, typically using all the original letters exactly once.\n",
        "\n",
        "Example 1:\n",
        "\n",
        "Input: s = \"anagram\", t = \"nagaram\"\n",
        "Output: true\n",
        "\n",
        "Example 2:\n",
        "Input: s = \"rat\", t = \"car\"\n",
        "Output: false"
      ],
      "metadata": {
        "id": "99a6z4EEszau"
      }
    },
    {
      "cell_type": "code",
      "source": [
        "class Solution:\n",
        "    def isAnagram(self, s: str, t: str) -> bool:\n",
        "      if len(s) != len(t):\n",
        "        return False\n",
        "      s_dict = {}\n",
        "      for letter in s:\n",
        "        s_dict[letter] = s_dict.get(letter , 0) + 1\n",
        "      print(s_dict)\n",
        "\n",
        "      for char in t:\n",
        "        if char not in s_dict or s_dict[char] == 0:\n",
        "          return False\n",
        "        s_dict[char] =- 1\n",
        "\n",
        "      return True\n"
      ],
      "metadata": {
        "id": "vXf4JC8wvPEl"
      },
      "execution_count": null,
      "outputs": []
    },
    {
      "cell_type": "code",
      "source": [
        "s = \"rut\"\n",
        "t = \"tue\"\n",
        "\n",
        "# Length of the 2 str should be the same\n",
        "# Find freq of occurrence of each char in one str using get() and save in dict\n",
        "# Check if freq is same in the other str by subtracting every char occurrence\n",
        "# from the freq in dict\n",
        "\n",
        "sltn = Solution()\n",
        "sltn.isAnagram(s,t)"
      ],
      "metadata": {
        "colab": {
          "base_uri": "https://localhost:8080/"
        },
        "id": "3X1tdAbmwCt5",
        "outputId": "39654ea8-bd97-4dc8-be58-c5db5a1408ef"
      },
      "execution_count": null,
      "outputs": [
        {
          "output_type": "stream",
          "name": "stdout",
          "text": [
            "{'r': 1, 'u': 1, 't': 1}\n"
          ]
        },
        {
          "output_type": "execute_result",
          "data": {
            "text/plain": [
              "False"
            ]
          },
          "metadata": {},
          "execution_count": 5
        }
      ]
    },
    {
      "cell_type": "code",
      "source": [
        "dct = {}\n",
        "letters = \"tunneyspasture\"\n",
        "for letter in letters:\n",
        "  dct[letter] = dct.get(letter,0) + 1\n",
        "print(dct)"
      ],
      "metadata": {
        "colab": {
          "base_uri": "https://localhost:8080/"
        },
        "id": "jo60C-COCPV8",
        "outputId": "9fd25586-6358-403e-8d7c-6e8a87ad7b83"
      },
      "execution_count": null,
      "outputs": [
        {
          "output_type": "stream",
          "name": "stdout",
          "text": [
            "{'t': 2, 'u': 2, 'n': 2, 'e': 2, 'y': 1, 's': 2, 'p': 1, 'a': 1, 'r': 1}\n"
          ]
        }
      ]
    },
    {
      "cell_type": "markdown",
      "source": [
        "## Two Sum\n",
        "\n",
        "Given an array of integers nums and an integer target, return indices of the two numbers such that they add up to target.\n",
        "\n",
        "You may assume that each input would have exactly one solution, and you may not use the same element twice.\n",
        "\n",
        "You can return the answer in any order.\n",
        "\n",
        "Example 1:\n",
        "\n",
        "Input: nums = [2,7,11,15], target = 9\n",
        "Output: [0,1]\n",
        "Explanation: Because nums[0] + nums[1] == 9, we return [0, 1].\n",
        "\n",
        "Example 2:\n",
        "\n",
        "Input: nums = [3,2,4], target = 6\n",
        "Output: [1,2]"
      ],
      "metadata": {
        "id": "ejUcyUTwJHUB"
      }
    },
    {
      "cell_type": "code",
      "source": [
        "class TwoSum:\n",
        "    def twoSum(self, nums, target):\n",
        "      prev_nums = {}\n",
        "      for i,n in enumerate(nums):\n",
        "        diff = target - n\n",
        "        if diff in prev_nums:\n",
        "          print(prev_nums, prev_nums[diff], diff)\n",
        "          return [prev_nums[diff], i]\n",
        "        prev_nums[n] = i\n"
      ],
      "metadata": {
        "id": "k6JK2bveJUIc"
      },
      "execution_count": null,
      "outputs": []
    },
    {
      "cell_type": "code",
      "source": [
        "nums = [2,11,7,15]\n",
        "target = 9\n",
        "\n",
        "# Store every parsed element in for loop in dict\n",
        "# Store it as key:value pair with key = number, value = index\n",
        "# Find the difference to target from current number\n",
        "# Check if the difference is a value in the key:value pairs of the dict\n",
        "\n",
        "soltn = TwoSum()\n",
        "soltn.twoSum(nums,target)"
      ],
      "metadata": {
        "colab": {
          "base_uri": "https://localhost:8080/"
        },
        "id": "I-TO8Q1TJY7P",
        "outputId": "71d29f29-bfd5-48eb-c1e1-abbcf00a1fbd"
      },
      "execution_count": null,
      "outputs": [
        {
          "output_type": "stream",
          "name": "stdout",
          "text": [
            "{2: 0, 11: 1} 0 2\n"
          ]
        },
        {
          "output_type": "execute_result",
          "data": {
            "text/plain": [
              "[0, 2]"
            ]
          },
          "metadata": {},
          "execution_count": 8
        }
      ]
    },
    {
      "cell_type": "markdown",
      "source": [
        "## Group Anagrams\n",
        "\n",
        "Given an array of strings strs, group the anagrams together. You can return the answer in any order.\n",
        "\n",
        "An Anagram is a word or phrase formed by rearranging the letters of a different word or phrase, typically using all the original letters exactly once.\n",
        "\n",
        "\n",
        "\n",
        "Example 1:\n",
        "\n",
        "Input: strs = [\"eat\",\"tea\",\"tan\",\"ate\",\"nat\",\"bat\"]\n",
        "Output: [[\"bat\"],[\"nat\",\"tan\"],[\"ate\",\"eat\",\"tea\"]]\n",
        "\n",
        "Example 2:\n",
        "\n",
        "Input: strs = [\"\"]\n",
        "Output: [[\"\"]]\n",
        "\n",
        "Example 3:\n",
        "\n",
        "Input: strs = [\"a\"]\n",
        "Output: [[\"a\"]]"
      ],
      "metadata": {
        "id": "Ybp6YbrzUY2_"
      }
    },
    {
      "cell_type": "code",
      "source": [
        "class Solution:\n",
        "    def groupAnagrams(self, strs: list[str]) -> list[list[str]]:\n",
        "      anagram_map = {}\n",
        "\n",
        "      for word in strs:\n",
        "        sorted_word = \"\".join(sorted(word))\n",
        "        if sorted_word in anagram_map:\n",
        "          anagram_map[sorted_word].append(word)\n",
        "        else:\n",
        "          anagram_map[sorted_word] = [word]\n",
        "\n",
        "      return list(anagram_map.values())"
      ],
      "metadata": {
        "id": "5SprHQSSpD16"
      },
      "execution_count": null,
      "outputs": []
    },
    {
      "cell_type": "code",
      "source": [
        "strs = [\"eat\",\"tea\",\"tan\",\"ate\",\"nat\",\"bat\"]\n",
        "\n",
        "# Sort words\n",
        "# Create new key:value pair in dict for the sorted word\n",
        "# If another similar sorted word exists, append to the key:value pair as list\n",
        "# else make separate list for that word alone\n",
        "\n",
        "grpA = Solution()\n",
        "grpA.groupAnagrams(strs)"
      ],
      "metadata": {
        "colab": {
          "base_uri": "https://localhost:8080/"
        },
        "id": "31FIsLm1UgaJ",
        "outputId": "6804fb26-690a-468e-b937-592e8ac49cdb"
      },
      "execution_count": null,
      "outputs": [
        {
          "output_type": "execute_result",
          "data": {
            "text/plain": [
              "[['eat', 'tea', 'ate'], ['tan', 'nat'], ['bat']]"
            ]
          },
          "metadata": {},
          "execution_count": 29
        }
      ]
    },
    {
      "cell_type": "markdown",
      "source": [
        "## Top K elements\n",
        "\n",
        "Given an integer array nums and an integer k, return the k most frequent elements. You may return the answer in any order.\n",
        "\n",
        "\n",
        "\n",
        "Example 1:\n",
        "\n",
        "Input: nums = [1,1,1,2,2,3], k = 2\n",
        "Output: [1,2]\n",
        "\n",
        "Example 2:\n",
        "\n",
        "Input: nums = [1], k = 1\n",
        "Output: [1]"
      ],
      "metadata": {
        "id": "3yxRWwElrIrw"
      }
    },
    {
      "cell_type": "code",
      "source": [
        "import heapq\n",
        "\n",
        "class KFreq:\n",
        "    def topKFrequent(self, nums: list[int], k: int) -> list[int]:\n",
        "      s_dict = {}\n",
        "      for n in nums:\n",
        "        s_dict[n] = s_dict.get(n,0) + 1\n",
        "\n",
        "      min_heap = []\n",
        "      for num, freq in s_dict.items():\n",
        "        print(num,freq)\n",
        "        heapq.heappush(min_heap, (freq,num))\n",
        "        if len(min_heap) > k:\n",
        "          heapq.heappop(min_heap)\n",
        "\n",
        "      return [num for freq,num in min_heap]"
      ],
      "metadata": {
        "id": "F5te_D9WrMJJ"
      },
      "execution_count": null,
      "outputs": []
    },
    {
      "cell_type": "code",
      "source": [
        "nums = [1,1,1,1,2,2,3,4,4,4,4]\n",
        "k = 1\n",
        "k_f = KFreq()\n",
        "k_f.topKFrequent(nums,k)"
      ],
      "metadata": {
        "id": "wiEZsE_ijlbS",
        "colab": {
          "base_uri": "https://localhost:8080/"
        },
        "outputId": "d6ec6ee7-84f5-4163-fc02-b062c75d2c91"
      },
      "execution_count": null,
      "outputs": [
        {
          "output_type": "stream",
          "name": "stdout",
          "text": [
            "1 4\n",
            "2 2\n",
            "3 1\n",
            "4 4\n"
          ]
        },
        {
          "output_type": "execute_result",
          "data": {
            "text/plain": [
              "[4]"
            ]
          },
          "metadata": {},
          "execution_count": 19
        }
      ]
    },
    {
      "cell_type": "markdown",
      "source": [
        "## Valid Palindrome\n",
        "\n",
        "A phrase is a palindrome if, after converting all uppercase letters into lowercase letters and removing all non-alphanumeric characters, it reads the same forward and backward. Alphanumeric characters include letters and numbers.\n",
        "\n",
        "Given a string s, return true if it is a palindrome, or false otherwise.\n",
        "\n",
        "Example 1:\n",
        "\n",
        "Input: s = \"A man, a plan, a canal: Panama\"\n",
        "\n",
        "Output: true\n",
        "\n",
        "Explanation: \"amanaplanacanalpanama\" is a palindrome.\n"
      ],
      "metadata": {
        "id": "aZzJrlcuCa8c"
      }
    },
    {
      "cell_type": "code",
      "source": [
        "class Solution:\n",
        "    def isPalindrome(self, s: str) -> bool:\n",
        "      left = 0\n",
        "      right = len(s) - 1\n",
        "      # Needs to handle isalnum and tolower cases\n",
        "      while left < right:\n",
        "        if s[left] != s[right]:\n",
        "          return False\n",
        "        left+=1\n",
        "        right-=1\n",
        "      return True"
      ],
      "metadata": {
        "id": "N5SYmiK4Cjwu"
      },
      "execution_count": null,
      "outputs": []
    },
    {
      "cell_type": "code",
      "source": [
        "s = \"A man, a plan, a canal: Panama\"\n",
        "s = Solution()\n",
        "s.isPalindrome(s)"
      ],
      "metadata": {
        "id": "SGl1ztFtK6Qp"
      },
      "execution_count": null,
      "outputs": []
    },
    {
      "cell_type": "markdown",
      "source": [
        "## Product of array except self\n",
        "\n",
        "Given an integer array nums, return an array answer such that answer[i] is equal to the product of all the elements of nums except nums[i].\n",
        "\n",
        "The product of any prefix or suffix of nums is guaranteed to fit in a 32-bit integer.\n",
        "\n",
        "You must write an algorithm that runs in O(n) time and without using the division operation.\n",
        "\n",
        "\n",
        "\n",
        "Example 1:\n",
        "\n",
        "Input: nums = [1,2,3,4]\n",
        "\n",
        "Output: [24,12,8,6]\n"
      ],
      "metadata": {
        "id": "GR7mOh91OW2J"
      }
    },
    {
      "cell_type": "code",
      "source": [
        "class ExceptSelf:\n",
        "    def productExceptSelf(self, nums: list[int]) -> list[int]:\n",
        "      n = len(nums)\n",
        "      ans = [1] * n\n",
        "\n",
        "      for i,num in enumerate(nums):\n",
        "        nums.pop(i)\n",
        "        ans[i] = self.listProd(nums)\n",
        "        nums.insert(i,num)\n",
        "\n",
        "      return ans\n",
        "\n",
        "    def listProd(self, num_lst:list[int]) -> int:\n",
        "      result = 1\n",
        "      for num in num_lst:\n",
        "        result *= num\n",
        "      return result\n"
      ],
      "metadata": {
        "id": "KgOUy3PSOcP-"
      },
      "execution_count": null,
      "outputs": []
    },
    {
      "cell_type": "code",
      "source": [
        "nums = [1,2,3,4]\n",
        "#         i\n",
        "es = ExceptSelf()\n",
        "es.productExceptSelf(nums)"
      ],
      "metadata": {
        "colab": {
          "base_uri": "https://localhost:8080/"
        },
        "id": "deGyELXjQYja",
        "outputId": "c8e13b54-26e9-474b-b29a-0995e44879dd"
      },
      "execution_count": null,
      "outputs": [
        {
          "output_type": "execute_result",
          "data": {
            "text/plain": [
              "[24, 12, 8, 6]"
            ]
          },
          "metadata": {},
          "execution_count": 49
        }
      ]
    },
    {
      "cell_type": "markdown",
      "source": [
        "## Valid Sudoku\n",
        "\n",
        "Determine if a 9 x 9 Sudoku board is valid. Only the filled cells need to be validated according to the following rules:\n",
        "\n",
        "    Each row must contain the digits 1-9 without repetition.\n",
        "    Each column must contain the digits 1-9 without repetition.\n",
        "    Each of the nine 3 x 3 sub-boxes of the grid must contain the digits 1-9 without repetition.\n",
        "\n",
        "Note:\n",
        "\n",
        "    A Sudoku board (partially filled) could be valid but is not necessarily solvable.\n",
        "    Only the filled cells need to be validated according to the mentioned rules.\n"
      ],
      "metadata": {
        "id": "hk_kxABTdIOG"
      }
    },
    {
      "cell_type": "code",
      "source": [
        "class Sudoku:\n",
        "    def isValidSudoku(self, board: list[list[str]]) -> bool:\n",
        "      n=9\n",
        "      seen = set()\n",
        "      for i in range(n):\n",
        "        for j in range(n):\n",
        "          if board[i][j] != \".\":\n",
        "            num = board[i][j]\n",
        "            if (\n",
        "                (i,num) in seen or\n",
        "                (num,j) in seen or\n",
        "                (i//3, j//3, num) in seen\n",
        "            ):\n",
        "              print(\"Already seen\", i,j,num)\n",
        "              return False\n",
        "            seen.add((i,num))\n",
        "            seen.add((num,j))\n",
        "            seen.add((i//3,j//3,num))\n",
        "            print(seen)\n",
        "      return True"
      ],
      "metadata": {
        "id": "gQQWQmwxdLmK"
      },
      "execution_count": null,
      "outputs": []
    },
    {
      "cell_type": "code",
      "source": [
        "\"\"\"\n",
        "- i represents rows, so (i,num) should be unique hash-set\n",
        "- same for columns\n",
        "\n",
        "- For each 3*3 matrix, to ensure unique hash-sets, we use the \"//\" operator.\n",
        "  For eg: 2//3 = 2, 4//3 = 1 etc\n",
        "  If we do this for each 3*3 matrix, we should get a unique set of hash-sets\n",
        "  for each row,col paired with the num itself\n",
        "\"\"\"\n",
        "board = [[\"5\",\"3\",\".\",\".\",\"7\",\".\",\".\",\".\",\".\"]\n",
        ",[\"6\",\".\",\".\",\"1\",\"9\",\"5\",\".\",\".\",\".\"]\n",
        ",[\".\",\"9\",\"8\",\".\",\".\",\".\",\".\",\"6\",\".\"]\n",
        ",[\"8\",\".\",\".\",\".\",\"6\",\".\",\".\",\".\",\"3\"]\n",
        ",[\"4\",\".\",\".\",\"8\",\".\",\"3\",\".\",\".\",\"1\"]\n",
        ",[\"7\",\".\",\".\",\".\",\"2\",\".\",\".\",\".\",\"6\"]\n",
        ",[\".\",\"6\",\".\",\".\",\".\",\".\",\"2\",\"8\",\".\"]\n",
        ",[\".\",\".\",\".\",\"4\",\"1\",\"9\",\".\",\".\",\"5\"]\n",
        ",[\".\",\".\",\".\",\".\",\"8\",\".\",\".\",\"7\",\"9\"]]\n",
        "\n",
        "board_f = [[\"8\",\"3\",\".\",\".\",\"7\",\".\",\".\",\".\",\".\"]\n",
        ",[\"6\",\".\",\".\",\"1\",\"9\",\"5\",\".\",\".\",\".\"]\n",
        ",[\".\",\"9\",\"8\",\".\",\".\",\".\",\".\",\"6\",\".\"]\n",
        ",[\"8\",\".\",\".\",\".\",\"6\",\".\",\".\",\".\",\"3\"]\n",
        ",[\"4\",\".\",\".\",\"8\",\".\",\"3\",\".\",\".\",\"1\"]\n",
        ",[\"7\",\".\",\".\",\".\",\"2\",\".\",\".\",\".\",\"6\"]\n",
        ",[\".\",\"6\",\".\",\".\",\".\",\".\",\"2\",\"8\",\".\"]\n",
        ",[\".\",\".\",\".\",\"4\",\"1\",\"9\",\".\",\".\",\"5\"]\n",
        ",[\".\",\".\",\".\",\".\",\"8\",\".\",\".\",\"7\",\"9\"]]\n",
        "\n",
        "sud = Sudoku()\n",
        "print(sud.isValidSudoku(board))\n",
        "print(sud.isValidSudoku(board_f))"
      ],
      "metadata": {
        "colab": {
          "base_uri": "https://localhost:8080/"
        },
        "id": "hzFva9eSdeRT",
        "outputId": "79f710fb-24b8-41d6-e7dd-67b00ca2f23d"
      },
      "execution_count": null,
      "outputs": [
        {
          "output_type": "stream",
          "name": "stdout",
          "text": [
            "{(0, '5'), (0, 0, '5'), ('5', 0)}\n",
            "{('3', 1), (0, 0, '3'), (0, 0, '5'), (0, '5'), ('5', 0), (0, '3')}\n",
            "{('3', 1), (0, 0, '3'), (0, 0, '5'), (0, '5'), ('5', 0), ('7', 4), (0, 1, '7'), (0, '7'), (0, '3')}\n",
            "{('3', 1), (0, 0, '3'), (0, 0, '5'), (0, 0, '6'), ('6', 0), (0, '5'), (1, '6'), ('5', 0), ('7', 4), (0, 1, '7'), (0, '7'), (0, '3')}\n",
            "{('3', 1), (0, 0, '3'), (0, 1, '1'), (0, 0, '5'), ('1', 3), (0, 0, '6'), ('6', 0), (0, '5'), (1, '6'), ('5', 0), (1, '1'), ('7', 4), (0, 1, '7'), (0, '7'), (0, '3')}\n",
            "{('3', 1), (0, 0, '3'), (0, 1, '1'), (0, 0, '5'), ('1', 3), (0, 0, '6'), ('6', 0), (0, '5'), (1, '6'), (1, '9'), ('5', 0), ('9', 4), (1, '1'), ('7', 4), (0, 1, '7'), (0, '7'), (0, '3'), (0, 1, '9')}\n",
            "{(0, 0, '5'), (0, 1, '7'), ('5', 5), ('1', 3), (0, '5'), (1, '6'), ('3', 1), (0, 1, '1'), (0, 1, '5'), (1, '1'), ('7', 4), (1, '5'), (0, 0, '6'), (0, 1, '9'), (0, 0, '3'), ('6', 0), (1, '9'), ('5', 0), ('9', 4), (0, '7'), (0, '3')}\n",
            "{(0, 0, '5'), (0, 1, '7'), (0, 0, '9'), ('5', 5), ('1', 3), (0, '5'), (1, '6'), (2, '9'), ('3', 1), (0, 1, '1'), (0, 1, '5'), (1, '1'), ('7', 4), (1, '5'), (0, 0, '6'), (0, 1, '9'), (0, 0, '3'), ('6', 0), (1, '9'), ('9', 1), ('5', 0), ('9', 4), (0, '7'), (0, '3')}\n",
            "{(0, 0, '5'), (0, 1, '7'), (0, 0, '9'), ('5', 5), (2, '8'), ('1', 3), (0, '5'), (1, '6'), ('8', 2), (2, '9'), ('3', 1), (0, 1, '1'), (0, 1, '5'), (1, '1'), ('7', 4), (1, '5'), (0, 0, '6'), (0, 1, '9'), (0, 0, '3'), ('6', 0), (1, '9'), ('9', 1), ('5', 0), ('9', 4), (0, '7'), (0, '3'), (0, 0, '8')}\n",
            "{(0, 0, '5'), (2, '6'), (0, 1, '7'), (0, 0, '9'), ('5', 5), (2, '8'), ('1', 3), (0, '5'), (1, '6'), ('8', 2), (2, '9'), ('3', 1), (0, 1, '1'), ('6', 7), (0, 1, '5'), (1, '1'), ('7', 4), (1, '5'), (0, 0, '6'), (0, 1, '9'), (0, 2, '6'), (0, 0, '3'), ('6', 0), (1, '9'), ('9', 1), ('5', 0), ('9', 4), (0, '7'), (0, '3'), (0, 0, '8')}\n",
            "{('8', 0), (0, 0, '5'), (2, '6'), (1, 0, '8'), (0, 1, '7'), (0, 0, '9'), ('5', 5), (2, '8'), ('1', 3), (0, '5'), (1, '6'), ('8', 2), (2, '9'), ('3', 1), (0, 1, '1'), ('6', 7), (0, 1, '5'), (1, '1'), ('7', 4), (1, '5'), (0, 0, '6'), (0, 1, '9'), (0, 2, '6'), (0, 0, '3'), (3, '8'), ('6', 0), (1, '9'), ('9', 1), ('5', 0), ('9', 4), (0, '7'), (0, '3'), (0, 0, '8')}\n",
            "{('8', 0), (0, 0, '5'), (2, '6'), (1, 0, '8'), (0, 1, '7'), (0, 0, '9'), ('5', 5), (2, '8'), ('1', 3), (0, '5'), (1, '6'), ('8', 2), (1, 1, '6'), ('6', 4), (2, '9'), ('3', 1), (0, 1, '1'), ('6', 7), (0, 1, '5'), (3, '6'), (1, '1'), ('7', 4), (1, '5'), (0, 0, '6'), (0, 1, '9'), (0, 2, '6'), (0, 0, '3'), (3, '8'), ('6', 0), (1, '9'), ('9', 1), ('5', 0), ('9', 4), (0, '7'), (0, '3'), (0, 0, '8')}\n",
            "{('8', 0), (0, 0, '5'), (2, '6'), (1, 0, '8'), (0, 1, '7'), ('3', 8), (0, 0, '9'), ('5', 5), (2, '8'), ('1', 3), (0, '5'), (1, '6'), ('8', 2), (1, 1, '6'), ('6', 4), (2, '9'), ('3', 1), (0, 1, '1'), ('6', 7), (3, '3'), (0, 1, '5'), (3, '6'), (1, '1'), ('7', 4), (1, '5'), (0, 0, '6'), (0, 1, '9'), (0, 2, '6'), (0, 0, '3'), (1, 2, '3'), (3, '8'), ('6', 0), (1, '9'), ('9', 1), ('5', 0), ('9', 4), (0, '7'), (0, '3'), (0, 0, '8')}\n",
            "{('8', 0), (0, 0, '5'), (2, '6'), (1, 0, '8'), (4, '4'), ('4', 0), (0, 1, '7'), ('3', 8), (0, 0, '9'), ('5', 5), (2, '8'), ('1', 3), (0, '5'), (1, '6'), ('8', 2), (1, 1, '6'), ('6', 4), (2, '9'), ('3', 1), (0, 1, '1'), ('6', 7), (3, '3'), (0, 1, '5'), (3, '6'), (1, 0, '4'), (1, '1'), ('7', 4), (1, '5'), (0, 0, '6'), (0, 1, '9'), (0, 2, '6'), (0, 0, '3'), (1, 2, '3'), (3, '8'), ('6', 0), (1, '9'), ('9', 1), ('5', 0), ('9', 4), (0, '7'), (0, '3'), (0, 0, '8')}\n",
            "{('8', 0), (0, 0, '5'), (2, '6'), (1, 0, '8'), ('8', 3), (4, '4'), ('4', 0), (0, 1, '7'), ('3', 8), (0, 0, '9'), ('5', 5), (2, '8'), ('1', 3), (0, '5'), (1, '6'), ('8', 2), (4, '8'), (1, 1, '6'), ('6', 4), (2, '9'), ('3', 1), (0, 1, '1'), ('6', 7), (3, '3'), (0, 1, '5'), (3, '6'), (1, 0, '4'), (1, '1'), ('7', 4), (1, '5'), (1, 1, '8'), (0, 0, '6'), (0, 1, '9'), (0, 2, '6'), (0, 0, '3'), (1, 2, '3'), (3, '8'), ('6', 0), (1, '9'), ('9', 1), ('5', 0), ('9', 4), (0, '7'), (0, '3'), (0, 0, '8')}\n",
            "{('8', 0), (0, 0, '5'), (2, '6'), (1, 0, '8'), ('8', 3), (4, '4'), ('4', 0), ('3', 5), (0, 1, '7'), ('3', 8), (0, 0, '9'), (4, '3'), ('5', 5), (2, '8'), ('1', 3), (0, '5'), (1, '6'), ('8', 2), (4, '8'), (1, 1, '3'), (1, 1, '6'), ('6', 4), (2, '9'), ('3', 1), (0, 1, '1'), ('6', 7), (3, '3'), (0, 1, '5'), (3, '6'), (1, 0, '4'), (1, '1'), ('7', 4), (1, '5'), (1, 1, '8'), (0, 0, '6'), (0, 1, '9'), (0, 2, '6'), (0, 0, '3'), (1, 2, '3'), (3, '8'), ('6', 0), (1, '9'), ('9', 1), ('5', 0), ('9', 4), (0, '7'), (0, '3'), (0, 0, '8')}\n",
            "{('8', 0), (0, 0, '5'), (2, '6'), (1, 0, '8'), ('8', 3), (4, '4'), ('4', 0), ('3', 5), (0, 1, '7'), ('3', 8), (0, 0, '9'), (4, '3'), ('5', 5), (2, '8'), (1, 2, '1'), ('1', 3), (0, '5'), (1, '6'), ('8', 2), (4, '8'), (1, 1, '3'), (1, 1, '6'), ('6', 4), (2, '9'), (4, '1'), ('3', 1), (0, 1, '1'), ('6', 7), (3, '3'), (0, 1, '5'), (3, '6'), (1, 0, '4'), (1, '1'), ('1', 8), ('7', 4), (1, '5'), (1, 1, '8'), (0, 0, '6'), (0, 1, '9'), (0, 2, '6'), (0, 0, '3'), (1, 2, '3'), (3, '8'), ('6', 0), (1, '9'), ('9', 1), ('5', 0), ('9', 4), (0, '7'), (0, '3'), (0, 0, '8')}\n",
            "{('8', 0), ('7', 0), (0, 0, '5'), (2, '6'), (1, 0, '8'), ('8', 3), (4, '4'), ('4', 0), ('3', 5), (0, 1, '7'), ('3', 8), (0, 0, '9'), (4, '3'), ('5', 5), (2, '8'), (1, 2, '1'), ('1', 3), (0, '5'), (1, '6'), ('8', 2), (4, '8'), (1, 1, '3'), (1, 1, '6'), ('6', 4), (2, '9'), (4, '1'), ('3', 1), (0, 1, '1'), ('6', 7), (5, '7'), (3, '3'), (0, 1, '5'), (3, '6'), (1, 0, '4'), (1, '1'), ('1', 8), ('7', 4), (1, '5'), (1, 1, '8'), (0, 0, '6'), (1, 0, '7'), (0, 1, '9'), (0, 2, '6'), (0, 0, '3'), (1, 2, '3'), (3, '8'), ('6', 0), (1, '9'), ('9', 1), ('5', 0), ('9', 4), (0, '7'), (0, '3'), (0, 0, '8')}\n",
            "{('8', 0), ('7', 0), (0, 0, '5'), (2, '6'), (1, 0, '8'), ('8', 3), (4, '4'), ('4', 0), ('3', 5), (0, 1, '7'), ('3', 8), (0, 0, '9'), (4, '3'), ('5', 5), (2, '8'), (1, 2, '1'), ('2', 4), ('1', 3), (1, 1, '2'), (0, '5'), (1, '6'), ('8', 2), (5, '2'), (4, '8'), (1, 1, '3'), (1, 1, '6'), ('6', 4), (2, '9'), (4, '1'), ('3', 1), (0, 1, '1'), ('6', 7), (5, '7'), (3, '3'), (0, 1, '5'), (3, '6'), (1, 0, '4'), (1, '1'), ('1', 8), ('7', 4), (1, '5'), (1, 1, '8'), (0, 0, '6'), (1, 0, '7'), (0, 1, '9'), (0, 2, '6'), (0, 0, '3'), (1, 2, '3'), (3, '8'), ('6', 0), (1, '9'), ('9', 1), ('5', 0), ('9', 4), (0, '7'), (0, '3'), (0, 0, '8')}\n",
            "{('8', 0), ('7', 0), (0, 0, '5'), (2, '6'), (1, 0, '8'), ('8', 3), (4, '4'), ('4', 0), ('3', 5), (0, 1, '7'), ('3', 8), (0, 0, '9'), (4, '3'), ('5', 5), ('6', 8), (2, '8'), (1, 2, '1'), ('2', 4), ('1', 3), (1, 1, '2'), (0, '5'), (1, '6'), ('8', 2), (5, '2'), (4, '8'), (1, 1, '3'), (1, 1, '6'), ('6', 4), (2, '9'), (4, '1'), ('3', 1), (0, 1, '1'), ('6', 7), (5, '7'), (5, '6'), (3, '3'), (0, 1, '5'), (3, '6'), (1, 0, '4'), (1, '1'), ('1', 8), ('7', 4), (1, '5'), (1, 1, '8'), (0, 0, '6'), (1, 0, '7'), (0, 1, '9'), (0, 2, '6'), (0, 0, '3'), (1, 2, '3'), (3, '8'), ('6', 0), (1, '9'), ('9', 1), ('5', 0), ('9', 4), (1, 2, '6'), (0, '7'), (0, '3'), (0, 0, '8')}\n",
            "{('8', 0), ('7', 0), (0, 0, '5'), (2, '6'), (1, 0, '8'), ('8', 3), (6, '6'), (4, '4'), ('4', 0), ('3', 5), (0, 1, '7'), ('3', 8), (0, 0, '9'), (4, '3'), ('5', 5), ('6', 8), (2, '8'), (1, 2, '1'), ('2', 4), ('1', 3), (1, 1, '2'), (0, '5'), (1, '6'), ('8', 2), (5, '2'), (4, '8'), (1, 1, '3'), (1, 1, '6'), ('6', 4), (2, '9'), (4, '1'), ('3', 1), (0, 1, '1'), ('6', 7), (5, '7'), ('6', 1), (5, '6'), (3, '3'), (0, 1, '5'), (3, '6'), (1, 0, '4'), (1, '1'), ('1', 8), ('7', 4), (1, '5'), (1, 1, '8'), (0, 0, '6'), (1, 0, '7'), (0, 1, '9'), (0, 2, '6'), (0, 0, '3'), (1, 2, '3'), (3, '8'), ('6', 0), (1, '9'), ('9', 1), ('5', 0), (2, 0, '6'), ('9', 4), (1, 2, '6'), (0, '7'), (0, '3'), (0, 0, '8')}\n",
            "{('8', 0), ('7', 0), (0, 0, '5'), (2, '6'), (1, 0, '8'), ('8', 3), (6, '6'), (4, '4'), ('4', 0), ('3', 5), (0, 1, '7'), ('3', 8), (0, 0, '9'), (4, '3'), ('5', 5), ('6', 8), (2, '8'), (1, 2, '1'), ('2', 4), ('1', 3), (1, 1, '2'), (0, '5'), (1, '6'), ('8', 2), (5, '2'), (4, '8'), (1, 1, '3'), (1, 1, '6'), ('6', 4), (2, '9'), (4, '1'), ('3', 1), (0, 1, '1'), ('6', 7), (5, '7'), ('6', 1), (5, '6'), (3, '3'), (0, 1, '5'), (3, '6'), ('2', 6), (1, 0, '4'), (1, '1'), ('1', 8), ('7', 4), (1, '5'), (1, 1, '8'), (0, 0, '6'), (1, 0, '7'), (2, 2, '2'), (0, 1, '9'), (0, 2, '6'), (0, 0, '3'), (1, 2, '3'), (3, '8'), ('6', 0), (1, '9'), ('9', 1), ('5', 0), (2, 0, '6'), ('9', 4), (1, 2, '6'), (6, '2'), (0, '7'), (0, '3'), (0, 0, '8')}\n",
            "{('8', 0), ('7', 0), (0, 0, '5'), (2, '6'), (1, 0, '8'), ('8', 3), (6, '6'), (4, '4'), (2, 2, '8'), ('4', 0), ('3', 5), (0, 1, '7'), ('3', 8), (0, 0, '9'), (4, '3'), ('5', 5), ('6', 8), (2, '8'), (1, 2, '1'), ('2', 4), ('1', 3), (1, 1, '2'), (0, '5'), (1, '6'), ('8', 2), (6, '8'), (5, '2'), (4, '8'), (1, 1, '3'), (1, 1, '6'), ('6', 4), (2, '9'), (4, '1'), ('3', 1), (0, 1, '1'), ('6', 7), (5, '7'), ('6', 1), (5, '6'), (3, '3'), (0, 1, '5'), (3, '6'), ('2', 6), (1, 0, '4'), (1, '1'), ('1', 8), ('7', 4), (1, '5'), (1, 1, '8'), (0, 0, '6'), ('8', 7), (1, 0, '7'), (2, 2, '2'), (0, 1, '9'), (0, 2, '6'), (0, 0, '3'), (1, 2, '3'), (3, '8'), ('6', 0), (1, '9'), ('9', 1), ('5', 0), (2, 0, '6'), ('9', 4), (1, 2, '6'), (6, '2'), (0, '7'), (0, '3'), (0, 0, '8')}\n",
            "{('8', 0), ('7', 0), (0, 0, '5'), (2, '6'), (1, 0, '8'), ('8', 3), (6, '6'), (4, '4'), (2, 1, '4'), (2, 2, '8'), ('4', 0), ('3', 5), ('4', 3), (0, 1, '7'), ('3', 8), (0, 0, '9'), (4, '3'), ('5', 5), ('6', 8), (2, '8'), (1, 2, '1'), ('2', 4), ('1', 3), (1, 1, '2'), (0, '5'), (1, '6'), ('8', 2), (6, '8'), (5, '2'), (4, '8'), (1, 1, '3'), (1, 1, '6'), ('6', 4), (2, '9'), (4, '1'), ('3', 1), (0, 1, '1'), ('6', 7), (5, '7'), ('6', 1), (5, '6'), (3, '3'), (0, 1, '5'), (3, '6'), ('2', 6), (1, 0, '4'), (1, '1'), ('1', 8), (7, '4'), ('7', 4), (1, '5'), (1, 1, '8'), (0, 0, '6'), ('8', 7), (1, 0, '7'), (2, 2, '2'), (0, 1, '9'), (0, 2, '6'), (0, 0, '3'), (1, 2, '3'), (3, '8'), ('6', 0), (1, '9'), ('9', 1), ('5', 0), (2, 0, '6'), ('9', 4), (1, 2, '6'), (6, '2'), (0, '7'), (0, '3'), (0, 0, '8')}\n",
            "{('8', 0), ('7', 0), (0, 0, '5'), (2, '6'), (1, 0, '8'), ('8', 3), (6, '6'), (7, '1'), (4, '4'), (2, 1, '4'), (2, 2, '8'), ('4', 0), ('3', 5), ('4', 3), (0, 1, '7'), ('3', 8), (0, 0, '9'), (4, '3'), ('5', 5), ('6', 8), (2, '8'), (1, 2, '1'), ('2', 4), ('1', 3), (1, 1, '2'), (0, '5'), (1, '6'), ('8', 2), (6, '8'), (5, '2'), (4, '8'), (1, 1, '3'), (1, 1, '6'), ('6', 4), (2, '9'), (4, '1'), ('3', 1), (0, 1, '1'), ('6', 7), (5, '7'), ('6', 1), (5, '6'), (3, '3'), (0, 1, '5'), (3, '6'), (2, 1, '1'), ('2', 6), (1, 0, '4'), (1, '1'), ('1', 8), (7, '4'), ('7', 4), (1, '5'), (1, 1, '8'), (0, 0, '6'), ('8', 7), (1, 0, '7'), (2, 2, '2'), (0, 1, '9'), (0, 2, '6'), (0, 0, '3'), (1, 2, '3'), ('1', 4), (3, '8'), ('6', 0), (1, '9'), ('9', 1), ('5', 0), (2, 0, '6'), ('9', 4), (1, 2, '6'), (6, '2'), (0, '7'), (0, '3'), (0, 0, '8')}\n",
            "{(2, '6'), (1, 0, '8'), (7, '1'), (4, '4'), ('4', 3), ('3', 8), (4, '3'), ('2', 4), ('1', 3), (1, 1, '2'), (1, 1, '3'), (1, 1, '6'), ('3', 1), (0, 1, '1'), ('6', 7), (5, '6'), (0, 1, '5'), ('2', 6), (1, '1'), (1, '5'), (2, 1, '9'), (2, 2, '2'), (0, 1, '9'), (0, 0, '3'), ('6', 0), ('9', 4), (0, '3'), ('8', 3), ('4', 0), ('3', 5), ('5', 5), (2, '8'), (1, 2, '1'), (1, '6'), (6, '8'), (5, '2'), (4, '8'), ('6', 4), (2, '9'), (5, '7'), (2, 1, '1'), (1, 0, '4'), (7, '4'), (1, 1, '8'), ('8', 7), ('9', 1), ('5', 0), (2, 0, '6'), (1, 2, '6'), (0, '7'), (0, 0, '8'), ('8', 0), ('7', 0), (0, 0, '5'), (2, 2, '8'), (0, 0, '9'), ('8', 2), (4, '1'), (3, '3'), (3, '6'), ('7', 4), (1, 0, '7'), (0, 2, '6'), (1, 2, '3'), ('1', 4), (6, '6'), (2, 1, '4'), (0, 1, '7'), ('6', 8), (7, '9'), (0, '5'), ('6', 1), ('9', 5), ('1', 8), (0, 0, '6'), (3, '8'), (1, '9'), (6, '2')}\n",
            "{(2, '6'), (1, 0, '8'), (7, '1'), (4, '4'), (7, '5'), ('4', 3), ('3', 8), (4, '3'), ('2', 4), ('5', 8), ('1', 3), (1, 1, '2'), (1, 1, '3'), (1, 1, '6'), ('3', 1), (0, 1, '1'), ('6', 7), (5, '6'), (0, 1, '5'), ('2', 6), (1, '1'), (1, '5'), (2, 1, '9'), (2, 2, '2'), (0, 1, '9'), (0, 0, '3'), ('6', 0), ('9', 4), (0, '3'), ('8', 3), ('4', 0), ('3', 5), ('5', 5), (2, '8'), (1, 2, '1'), (1, '6'), (6, '8'), (5, '2'), (4, '8'), ('6', 4), (2, '9'), (5, '7'), (2, 1, '1'), (1, 0, '4'), (7, '4'), (1, 1, '8'), ('8', 7), ('9', 1), ('5', 0), (2, 0, '6'), (1, 2, '6'), (0, '7'), (0, 0, '8'), ('8', 0), ('7', 0), (0, 0, '5'), (2, 2, '8'), (0, 0, '9'), ('8', 2), (4, '1'), (3, '3'), (3, '6'), ('7', 4), (1, 0, '7'), (0, 2, '6'), (1, 2, '3'), ('1', 4), (6, '6'), (2, 1, '4'), (0, 1, '7'), ('6', 8), (7, '9'), (2, 2, '5'), (0, '5'), ('6', 1), ('9', 5), ('1', 8), (0, 0, '6'), (3, '8'), (1, '9'), (6, '2')}\n",
            "{(2, '6'), (1, 0, '8'), (7, '1'), (4, '4'), (7, '5'), ('4', 3), ('3', 8), (4, '3'), ('2', 4), ('5', 8), ('1', 3), (1, 1, '2'), (1, 1, '3'), (1, 1, '6'), (2, 1, '8'), ('3', 1), (0, 1, '1'), ('6', 7), (5, '6'), (0, 1, '5'), ('2', 6), (1, '1'), (1, '5'), (2, 1, '9'), (2, 2, '2'), (0, 1, '9'), (0, 0, '3'), ('6', 0), ('9', 4), (0, '3'), ('8', 3), ('4', 0), ('3', 5), ('5', 5), (2, '8'), (1, 2, '1'), (1, '6'), (6, '8'), (5, '2'), (4, '8'), ('6', 4), (2, '9'), (5, '7'), (2, 1, '1'), (8, '8'), (1, 0, '4'), (7, '4'), (1, 1, '8'), ('8', 7), ('9', 1), ('5', 0), (2, 0, '6'), (1, 2, '6'), (0, '7'), (0, 0, '8'), ('8', 0), ('7', 0), (0, 0, '5'), (2, 2, '8'), (0, 0, '9'), ('8', 2), (4, '1'), (3, '3'), (3, '6'), ('7', 4), ('8', 4), (1, 0, '7'), (0, 2, '6'), (1, 2, '3'), ('1', 4), (6, '6'), (2, 1, '4'), (0, 1, '7'), ('6', 8), (7, '9'), (2, 2, '5'), (0, '5'), ('6', 1), ('9', 5), ('1', 8), (0, 0, '6'), (3, '8'), (1, '9'), (6, '2')}\n",
            "{(2, '6'), (1, 0, '8'), (7, '1'), (4, '4'), (7, '5'), ('4', 3), ('3', 8), (4, '3'), ('2', 4), ('5', 8), ('1', 3), (1, 1, '2'), (1, 1, '3'), (1, 1, '6'), (2, 1, '8'), ('3', 1), (0, 1, '1'), ('6', 7), (5, '6'), (0, 1, '5'), ('2', 6), (1, '1'), (1, '5'), (2, 1, '9'), (2, 2, '2'), (0, 1, '9'), (0, 0, '3'), ('6', 0), ('9', 4), (0, '3'), ('8', 3), ('4', 0), ('3', 5), ('5', 5), (2, '8'), (1, 2, '1'), (8, '7'), (1, '6'), (6, '8'), (5, '2'), (4, '8'), ('6', 4), (2, '9'), (5, '7'), (2, 1, '1'), (8, '8'), (1, 0, '4'), (7, '4'), (1, 1, '8'), ('8', 7), ('7', 7), ('9', 1), ('5', 0), (2, 0, '6'), (2, 2, '7'), (1, 2, '6'), (0, '7'), (0, 0, '8'), ('8', 0), ('7', 0), (0, 0, '5'), (2, 2, '8'), (0, 0, '9'), ('8', 2), (4, '1'), (3, '3'), (3, '6'), ('7', 4), ('8', 4), (1, 0, '7'), (0, 2, '6'), (1, 2, '3'), ('1', 4), (6, '6'), (2, 1, '4'), (0, 1, '7'), ('6', 8), (7, '9'), (2, 2, '5'), (0, '5'), ('6', 1), ('9', 5), ('1', 8), (0, 0, '6'), (3, '8'), (1, '9'), (6, '2')}\n",
            "{(2, '6'), (1, 0, '8'), (7, '1'), (4, '4'), (7, '5'), ('4', 3), ('3', 8), (4, '3'), ('2', 4), ('5', 8), ('1', 3), (1, 1, '2'), (1, 1, '3'), (1, 1, '6'), (2, 1, '8'), ('3', 1), (0, 1, '1'), ('6', 7), (5, '6'), (0, 1, '5'), ('2', 6), (1, '1'), (1, '5'), (2, 1, '9'), (2, 2, '2'), (0, 1, '9'), (0, 0, '3'), ('6', 0), ('9', 4), (0, '3'), ('8', 3), ('4', 0), ('3', 5), ('5', 5), (2, '8'), (1, 2, '1'), (8, '7'), (1, '6'), (6, '8'), (5, '2'), (4, '8'), ('6', 4), (2, '9'), (5, '7'), (2, 1, '1'), (8, '8'), ('9', 8), (1, 0, '4'), (7, '4'), (1, 1, '8'), ('8', 7), ('7', 7), (8, '9'), ('9', 1), ('5', 0), (2, 0, '6'), (2, 2, '7'), (1, 2, '6'), (0, '7'), (0, 0, '8'), ('8', 0), ('7', 0), (0, 0, '5'), (2, 2, '8'), (0, 0, '9'), ('8', 2), (2, 2, '9'), (4, '1'), (3, '3'), (3, '6'), ('7', 4), ('8', 4), (1, 0, '7'), (0, 2, '6'), (1, 2, '3'), ('1', 4), (6, '6'), (2, 1, '4'), (0, 1, '7'), ('6', 8), (7, '9'), (2, 2, '5'), (0, '5'), ('6', 1), ('9', 5), ('1', 8), (0, 0, '6'), (3, '8'), (1, '9'), (6, '2')}\n",
            "True\n",
            "{('8', 0), (0, '8'), (0, 0, '8')}\n",
            "{('8', 0), ('3', 1), (0, 0, '3'), (0, '8'), (0, '3'), (0, 0, '8')}\n",
            "{('8', 0), ('3', 1), (0, 0, '3'), ('7', 4), (0, 1, '7'), (0, '7'), (0, '8'), (0, '3'), (0, 0, '8')}\n",
            "{('8', 0), ('3', 1), (0, 0, '3'), (0, 0, '6'), ('6', 0), (1, '6'), ('7', 4), (0, 1, '7'), (0, '7'), (0, '8'), (0, '3'), (0, 0, '8')}\n",
            "{('8', 0), ('3', 1), (0, 0, '3'), (0, 1, '1'), ('1', 3), (0, 0, '6'), ('6', 0), (1, '6'), (1, '1'), ('7', 4), (0, 1, '7'), (0, '7'), (0, '8'), (0, '3'), (0, 0, '8')}\n",
            "{('8', 0), ('3', 1), (0, 0, '3'), (0, 1, '1'), ('1', 3), (0, 0, '6'), ('6', 0), (1, '6'), (1, '9'), (0, 1, '9'), ('9', 4), (1, '1'), ('7', 4), (0, 1, '7'), (0, '7'), (0, '8'), (0, '3'), (0, 0, '8')}\n",
            "{('8', 0), (0, 1, '7'), (0, '8'), ('5', 5), ('1', 3), (1, '6'), ('3', 1), (0, 1, '1'), (0, 1, '5'), (1, '1'), ('7', 4), (1, '5'), (0, 0, '6'), (0, 1, '9'), (0, 0, '3'), ('6', 0), (1, '9'), ('9', 4), (0, '7'), (0, '3'), (0, 0, '8')}\n",
            "{('8', 0), (0, 1, '7'), (0, '8'), (0, 0, '9'), ('5', 5), ('1', 3), (1, '6'), (2, '9'), ('3', 1), (0, 1, '1'), (0, 1, '5'), (1, '1'), ('7', 4), (1, '5'), (0, 0, '6'), (0, 1, '9'), (0, 0, '3'), ('6', 0), (1, '9'), ('9', 1), ('9', 4), (0, '7'), (0, '3'), (0, 0, '8')}\n",
            "Already seen 2 2 8\n",
            "False\n"
          ]
        }
      ]
    },
    {
      "cell_type": "markdown",
      "source": [
        "## Encode and Decode Strings\n",
        "\n",
        "Design an algorithm to encode a list of strings to a string. The encoded string is then sent over the network and is decoded back to the original list of strings.\n",
        "\n",
        "Example1\n",
        "\n",
        "Input: [“lint”,“code”,“love”,“you”] Output: [“lint”,“code”,“love”,“you”] Explanation: One possible encode method is: “lint:;code:;love:;you”\n",
        "\n",
        "Example2\n",
        "\n",
        "Input: [“we”, “say”, “:”, “yes”] Output: [“we”, “say”, “:”, “yes”] Explanation: One possible encode method is: “we:;say:;:::;yes”"
      ],
      "metadata": {
        "id": "BBNXlsK-easF"
      }
    },
    {
      "cell_type": "code",
      "source": [
        "\"\"\"\n",
        "Encode such that len(string) and delimiter are pre-ambles to the word\n",
        "Eg:\n",
        "Encode input: [\"me\",\"gusta\"]\n",
        "Encode output: \"2#me5#gusta\"\n",
        "Decode input : \"2#me2#no5#gusta\"\n",
        "Decode output: [\"me\",\"no\",\"gusta\"]\n",
        "\"\"\"\n",
        "class Codec:\n",
        "    def encode(self, strs: list[str]) -> str:\n",
        "      res = \"\"\n",
        "      for s in strs:\n",
        "        res += str(len(s)) + \"#\" + s\n",
        "      return res\n",
        "\n",
        "    def decode(self, s: str) -> list[str]:\n",
        "      res = []\n",
        "      i = 0\n",
        "      while i < len(s):\n",
        "        j = i\n",
        "        # j is at i's position (which starts at 0) and keeps incrementing until\n",
        "        # a delimiter is found\n",
        "        while s[j] != \"#\":\n",
        "          j += 1\n",
        "        wordlen = int(s[i:j])\n",
        "        word = s[j+1 : j+1+wordlen]\n",
        "        res.append(word)\n",
        "        i = j + 1 + wordlen\n",
        "\n",
        "      return res\n"
      ],
      "metadata": {
        "id": "HG7iyzrCe-cr"
      },
      "execution_count": null,
      "outputs": []
    },
    {
      "cell_type": "code",
      "source": [
        "ip_e = [\"me\",\"gusta\"]\n",
        "ip_d = \"2#me2#no5#gusta\"\n",
        "c = Codec()\n",
        "print(c.encode(ip_e))\n",
        "print(c.decode(ip_d))"
      ],
      "metadata": {
        "colab": {
          "base_uri": "https://localhost:8080/"
        },
        "id": "WQ2w-0LRgD7x",
        "outputId": "3bb3a6a5-c8ec-4cb1-90d4-a0a0617e3a1e"
      },
      "execution_count": null,
      "outputs": [
        {
          "output_type": "stream",
          "name": "stdout",
          "text": [
            "2#me5#gusta\n",
            "['me', 'no', 'gusta']\n"
          ]
        }
      ]
    },
    {
      "cell_type": "markdown",
      "source": [
        "## Longest Consecutive Sequence\n",
        "\n",
        "Given array of unsorted ints, find the length of the longest consecutive sequence\n",
        "\n",
        "Eg: nums = [100,4,200,3,1,2]\n",
        "\n",
        "OP: 4 (1,2,3,4) is the longest sequence"
      ],
      "metadata": {
        "id": "-GFtcwou3bTu"
      }
    },
    {
      "cell_type": "code",
      "source": [
        "\"\"\"\n",
        "- Check if any num -1 exist. If it does, move there, otherwise it is the\n",
        "  beginning of a sequence\n",
        "- For every beginning of seq, check if next element is in set, then the next and\n",
        "  so on\n",
        "  [1,2,3,4]\n",
        "\"\"\"\n",
        "class LongSeq:\n",
        "  def longestSeq(self, nums: list[int]) -> int:\n",
        "    longest = 0\n",
        "    numSet = set(nums)\n",
        "    for num in nums:\n",
        "      length = 0\n",
        "      if num-1 not in numSet:\n",
        "        # beginning of Seq\n",
        "        while num + length in numSet:\n",
        "          length += 1\n",
        "          longest = max(longest,length)\n",
        "\n",
        "    return longest"
      ],
      "metadata": {
        "id": "zTgEa-TI3y0F"
      },
      "execution_count": null,
      "outputs": []
    },
    {
      "cell_type": "code",
      "source": [
        "nums = [100,4,200,3,1,2]\n",
        "l = LongSeq()\n",
        "l.longestSeq(nums)"
      ],
      "metadata": {
        "colab": {
          "base_uri": "https://localhost:8080/"
        },
        "id": "lJ8D2ldMGmVd",
        "outputId": "f74ebdad-560b-4186-b5f7-79ee88d2c7b3"
      },
      "execution_count": null,
      "outputs": [
        {
          "output_type": "execute_result",
          "data": {
            "text/plain": [
              "4"
            ]
          },
          "metadata": {},
          "execution_count": 10
        }
      ]
    },
    {
      "cell_type": "markdown",
      "source": [
        "# Two Pointer"
      ],
      "metadata": {
        "id": "etbVb3xdN_AU"
      }
    },
    {
      "cell_type": "markdown",
      "source": [
        "\n",
        "\n",
        "## 3 Sum\n",
        "\n",
        "Given an integer array nums, return all the triplets [nums[i], nums[j], nums[k]] such that i != j, i != k, and j != k, and nums[i] + nums[j] + nums[k] == 0.\n",
        "\n",
        "Notice that the solution set must not contain duplicate triplets.\n",
        "\n",
        "Example 1:\n",
        "\n",
        "Input: nums = [-1,0,1,2,-1,-4]\n",
        "\n",
        "Output: [[-1,-1,2],[-1,0,1]]"
      ],
      "metadata": {
        "id": "tb8q4LW9Li6Z"
      }
    },
    {
      "cell_type": "code",
      "source": [
        "class ThreeSum:\n",
        "    def threeSum(self, nums: list[int]) -> list[list[int]]:\n",
        "      # [-1,0,1,2,-1,-4]\n",
        "      #     ^ ^       ^\n",
        "      ans = []\n",
        "      for i , num in enumerate(nums):\n",
        "        l = 0\n",
        "        r = len(nums) - 1\n",
        "        while l < r and i!=l and i!=r:\n",
        "            print(num , nums[l] , nums[r])\n",
        "            if num + nums[l] + nums[r] == 0:\n",
        "              ans.append([num,nums[l],nums[r]])\n",
        "              r-=1\n",
        "            else:\n",
        "              #l+=1\n",
        "              r-=1\n",
        "      return ans"
      ],
      "metadata": {
        "id": "yWplix-1RjxD"
      },
      "execution_count": null,
      "outputs": []
    },
    {
      "cell_type": "code",
      "source": [
        "nums = [-1,0,1,2,-1,-4]\n",
        "zerosum = ThreeSum()\n",
        "zerosum.threeSum(nums)"
      ],
      "metadata": {
        "colab": {
          "base_uri": "https://localhost:8080/"
        },
        "id": "mzmiGZwiX1h-",
        "outputId": "a4b283d0-823f-4869-b373-d25fc185f595"
      },
      "execution_count": null,
      "outputs": [
        {
          "output_type": "stream",
          "name": "stdout",
          "text": [
            "0 -1 -4\n",
            "0 -1 -1\n",
            "0 -1 2\n",
            "0 -1 1\n",
            "1 -1 -4\n",
            "1 -1 -1\n",
            "1 -1 2\n",
            "2 -1 -4\n",
            "2 -1 -1\n",
            "-1 -1 -4\n"
          ]
        },
        {
          "output_type": "execute_result",
          "data": {
            "text/plain": [
              "[[0, -1, 1], [2, -1, -1]]"
            ]
          },
          "metadata": {},
          "execution_count": 29
        }
      ]
    },
    {
      "cell_type": "markdown",
      "source": [
        "## Container with most water\n",
        "\n",
        "You are given an integer array height of length n. There are n vertical lines drawn such that the two endpoints of the ith line are (i, 0) and (i, height[i]).\n",
        "\n",
        "Find two lines that together with the x-axis form a container, such that the container contains the most water.\n",
        "\n",
        "Return the maximum amount of water a container can store.\n",
        "\n",
        "Notice that you may not slant the container.\n",
        "\n",
        "Input: height = [1,8,6,2,5,4,8,3,7]\n",
        "\n",
        "Output: 49\n",
        "\n",
        "Explanation: The above vertical lines are represented by array [1,8,6,2,5,4,8,3,7]. In this case, the max area of water (blue section) the container can contain is 49"
      ],
      "metadata": {
        "id": "VO69Yd811EZH"
      }
    },
    {
      "cell_type": "code",
      "source": [
        "class Container:\n",
        "    def maxArea(self, height: list[int]) -> int:\n",
        "      area = 0\n",
        "      l = 0\n",
        "      r = len(height) - 1\n",
        "      while l < r:\n",
        "        minHt = min(height[l], height[r])\n",
        "        area = max(area, minHt * (r-l))\n",
        "        if height[l] < height[r]:\n",
        "          l+=1\n",
        "        else:\n",
        "          r-=1\n",
        "      return area"
      ],
      "metadata": {
        "id": "Xt-tdwYT1KBa"
      },
      "execution_count": null,
      "outputs": []
    },
    {
      "cell_type": "code",
      "source": [
        "height = [1,8,6,2,5,4,8,3,7]\n",
        "#           ^ ^\n",
        "c = Container()\n",
        "c.maxArea(height)"
      ],
      "metadata": {
        "colab": {
          "base_uri": "https://localhost:8080/"
        },
        "id": "GeO-or9V1jQi",
        "outputId": "18cb0c29-182c-4d8c-ed29-65b3c2b178de"
      },
      "execution_count": null,
      "outputs": [
        {
          "output_type": "execute_result",
          "data": {
            "text/plain": [
              "49"
            ]
          },
          "metadata": {},
          "execution_count": 37
        }
      ]
    },
    {
      "cell_type": "markdown",
      "source": [
        "## Trapping Rain Water\n",
        "\n",
        "Given n non-negative integers representing an elevation map where the width of each bar is 1, compute how much water it can trap after raining.\n",
        "\n",
        "Input: height = [0,1,0,2,1,0,1,3,2,1,2,1]\n",
        "\n",
        "Output: 6\n",
        "\n",
        "Explanation: The above elevation map (black section) is represented by array [0,1,0,2,1,0,1,3,2,1,2,1]. In this case, 6 units of rain water (blue section) are being trapped.\n",
        "\n",
        "Example 2:\n",
        "\n",
        "Input: height = [4,2,0,3,2,5]\n",
        "\n",
        "Output: 9\n"
      ],
      "metadata": {
        "id": "2XIYhbF25cKF"
      }
    },
    {
      "cell_type": "code",
      "source": [
        "\"\"\"\n",
        "We initialize two pointers, one at the beginning of the array (left) and the\n",
        "other at the end of the array (right). We also initialize two variables to keep\n",
        "track of the maximum left height and maximum right height seen so far. While the\n",
        "left pointer is less than the right pointer, we compare the height at the left\n",
        "and right pointers. If the height at the left pointer is less than or equal to\n",
        "the height at the right pointer, it means we can trap water between the left\n",
        "pointer and the maximum left height. Otherwise, we can trap water between the\n",
        "right pointer and the maximum right height. At each step, we update the trapped\n",
        "water amount and move the pointers and update the maximum heights accordingly.\n",
        "\"\"\"\n",
        "class TrapWater:\n",
        "    def trap(self, height: list[int]) -> int:\n",
        "      l= 0\n",
        "      r= len(height) - 1\n",
        "      max_ht_l = 0\n",
        "      max_ht_r = 0\n",
        "      trapped_water = 0\n",
        "\n",
        "      while l < r:\n",
        "        if height[l] <= height[r]:\n",
        "          if height[l] >= max_ht_l:\n",
        "            max_ht_l = height[l]\n",
        "          else:\n",
        "            trapped_water += max_ht_l - height[l]\n",
        "          l+=1\n",
        "        else:\n",
        "          if height[r] >= max_ht_r:\n",
        "            max_ht_r = height[r]\n",
        "          else:\n",
        "            trapped_water += max_ht_r - height[r]\n",
        "          r-=1\n",
        "\n",
        "      return trapped_water"
      ],
      "metadata": {
        "id": "aW6kYZXH5lCi"
      },
      "execution_count": null,
      "outputs": []
    },
    {
      "cell_type": "code",
      "source": [
        "height = [4,2,0,3,2,5]\n",
        "trap_water = TrapWater()\n",
        "trap_water.trap(height)"
      ],
      "metadata": {
        "colab": {
          "base_uri": "https://localhost:8080/"
        },
        "id": "PKFbwtIDwyt9",
        "outputId": "1505f4be-5209-4bf6-faf7-cc619f5e745d"
      },
      "execution_count": null,
      "outputs": [
        {
          "output_type": "execute_result",
          "data": {
            "text/plain": [
              "9"
            ]
          },
          "metadata": {},
          "execution_count": 3
        }
      ]
    },
    {
      "cell_type": "markdown",
      "source": [
        "# Sliding Window"
      ],
      "metadata": {
        "id": "p62H8LZMRMeY"
      }
    },
    {
      "cell_type": "markdown",
      "source": [
        "## Best time to buy and sell stock\n",
        "\n"
      ],
      "metadata": {
        "id": "MCGQvvVmRQhD"
      }
    },
    {
      "cell_type": "code",
      "source": [
        "class Stock:\n",
        "  def maxProfit(self, prices: list[int]) -> int:\n",
        "    # l = buy, r = sell\n",
        "    l = 0\n",
        "    r = 1\n",
        "    maxP = 0\n",
        "\n",
        "    while r < len(prices) - 1:\n",
        "      if prices[l] < prices[r]:\n",
        "        profit = prices[r] - prices[l]\n",
        "        maxP = max(maxP, profit)\n",
        "      else:\n",
        "        l = r\n",
        "      r += 1\n",
        "    return maxP"
      ],
      "metadata": {
        "id": "TLd-j3-tTkAs"
      },
      "execution_count": null,
      "outputs": []
    },
    {
      "cell_type": "code",
      "source": [
        "prices = [7,1,5,3,6,4]\n",
        "s = Stock()\n",
        "s.maxProfit(prices)"
      ],
      "metadata": {
        "colab": {
          "base_uri": "https://localhost:8080/"
        },
        "id": "cs4Lj5L9XYeH",
        "outputId": "a02b69dc-b0ec-44dd-a7ea-66de2f269d8d"
      },
      "execution_count": null,
      "outputs": [
        {
          "output_type": "execute_result",
          "data": {
            "text/plain": [
              "5"
            ]
          },
          "metadata": {},
          "execution_count": 2
        }
      ]
    },
    {
      "cell_type": "markdown",
      "source": [
        "# Graphs\n",
        "\n",
        "- Usually, the task involves searching/traversing a graph\n",
        "  - This is normally done through BFS/DFS\n",
        "- Graphs in general, and BFS and DFS specifically usually have the following similarities:\n",
        "  - A base case that returns true/false\n",
        "  - At least one hash-set (seen/visited)\n",
        "  - Additionally, to detect a graph loop or cyclic behavior, a cycle  hash set\n",
        "    - We need to carefully control what is added or removed from these sets\n",
        "  - Usually, a hash map (adjacency list/dictionary) with key as base node and value as a list of adjacent vertices/nodes"
      ],
      "metadata": {
        "id": "QUczeAC42ofe"
      }
    },
    {
      "cell_type": "markdown",
      "source": [
        "## Walls and Gates\n",
        "\n",
        "You are given a m x n 2D grid initialized with these three possible values.\n",
        "\n",
        "    -1 - A wall or an obstacle.\n",
        "    0 - A gate.\n",
        "    INF - Infinity means an empty room. We use the value 231 - 1 = 2147483647 to represent INF as you may assume that the distance to a gate is less than 2147483647.\n",
        "\n",
        "Fill each empty room with the distance to its nearest gate. If it is impossible to reach a gate, it should be filled with INF.\n",
        "\n",
        "Example:\n",
        "\n",
        "Given the 2D grid:\n",
        "\n",
        "INF  -1  0  INF\n",
        "INF INF INF  -1\n",
        "INF  -1 INF  -1\n",
        "  0  -1 INF INF\n",
        "\n",
        "After running your function, the 2D grid should be:\n",
        "\n",
        "  3  -1   0   1\n",
        "  2   2   1  -1\n",
        "  1  -1   2  -1\n",
        "  0  -1   3   4\n"
      ],
      "metadata": {
        "id": "TILJuwbi2qq3"
      }
    },
    {
      "cell_type": "code",
      "source": [
        "from collections import deque\n",
        "class Walls:\n",
        "  def wallsAndGates(self, rooms: list[list[int]]) -> None:\n",
        "    ROWS, COLS = len(rooms), len(rooms[0])\n",
        "    q = deque()\n",
        "    seen = set()\n",
        "\n",
        "    def addRoom(r,c):\n",
        "        if (\n",
        "            (r,c) not in seen or\n",
        "            r!=0 or r!= ROWS-1 or\n",
        "            c!=0 or c!= COLS -1 or\n",
        "            rooms[r][c] != 0\n",
        "        ):\n",
        "          return\n",
        "        seen.add([r,c])\n",
        "        q.append([r,c])\n",
        "\n",
        "    for row in ROWS:\n",
        "      for col and COLS:\n",
        "        if rooms[row][col] == 0:\n",
        "          seen.add([row,col])\n",
        "          q.append([row,col])\n",
        "\n",
        "    dist = 0\n",
        "\n",
        "    while q:\n",
        "      r,c = q.popleft()\n",
        "      for i in range(len(q)):\n",
        "        rooms[r][c] = dist\n",
        "        addRoom(r+1,c)\n",
        "        addRoom(r,c+1)\n",
        "        addRoom(r-1,c)\n",
        "        addRoom(r,c-1)\n",
        "      dist += 1"
      ],
      "metadata": {
        "id": "Rol4QUQU2oGU"
      },
      "execution_count": null,
      "outputs": []
    },
    {
      "cell_type": "markdown",
      "source": [
        "## Course Schedule"
      ],
      "metadata": {
        "id": "EJaT54CYMXfz"
      }
    },
    {
      "cell_type": "code",
      "source": [
        "\"\"\"\n",
        "- Iterate through all courses (nodes)\n",
        "- Apply base cases to DFS for each node (crs)\n",
        "  - If crs (node) has already been seen, return false\n",
        "  - If dict[crs] (which is prereq) is empty, prereq does not exist, therefore\n",
        "    return true\n",
        "- Otherwise, if the above 2 conditions are not met, meaning we are searching\n",
        "  through the depth of a node, add crs (node) to seen\n",
        "  - Therefore, recursively search for whether those prereqs have prereqs or not\n",
        "- Once searched, and no prereqs are cyclic, remove node (crs) from seen, turn\n",
        "  dict value (a list) to empty, and return true\n",
        "\"\"\"\n",
        "class CourseSched:\n",
        "  def canFinish(self, numCourses: int, prereqs: list[list[int]]) -> bool:\n",
        "    seen = set()\n",
        "    crs_map = {key:[] for key in range(numCourses)}\n",
        "    for crs, pre in prereqs:\n",
        "      crs_map[crs].append(pre)\n",
        "\n",
        "    def dfs(crs):\n",
        "      if crs in seen:\n",
        "        return False\n",
        "      if crs_map[crs] == []:\n",
        "        return True\n",
        "\n",
        "      seen.add(crs)\n",
        "      for pre in crs_map[crs]:\n",
        "        if not dfs(pre): return False\n",
        "\n",
        "      seen.remove(crs)\n",
        "      crs_map[crs] = []\n",
        "      return True\n",
        "\n",
        "    for crs in range(numCourses):\n",
        "      if not dfs(crs): return False\n",
        "\n",
        "    return True"
      ],
      "metadata": {
        "id": "6rsWOR8lMaDX"
      },
      "execution_count": null,
      "outputs": []
    },
    {
      "cell_type": "code",
      "source": [
        "prereqs = [[0,1],[0,2],[1,3],[1,4],[3,4]]\n",
        "c = CourseSched()\n",
        "c.canFinish(numCourses= 5, prereqs= prereqs)"
      ],
      "metadata": {
        "colab": {
          "base_uri": "https://localhost:8080/"
        },
        "id": "mEClwnclMZcK",
        "outputId": "0bd6db69-1df1-4bf6-9a5d-b6b8ffdb6dda"
      },
      "execution_count": null,
      "outputs": [
        {
          "output_type": "execute_result",
          "data": {
            "text/plain": [
              "True"
            ]
          },
          "metadata": {},
          "execution_count": 13
        }
      ]
    },
    {
      "cell_type": "markdown",
      "source": [
        "## Course Schedule II"
      ],
      "metadata": {
        "id": "rPTtNik1Py8u"
      }
    },
    {
      "cell_type": "code",
      "source": [
        "class CrsSched:\n",
        "    def findOrder(self, numCourses: int, prerequisites: list[list[int]]) -> list[int]:\n",
        "      crs_map = {i:[] for i in range(numCourses)}\n",
        "      visit = set()\n",
        "      cycle = set()\n",
        "      course_order = []\n",
        "\n",
        "      for crs, pre in prerequisites:\n",
        "        crs_map[crs].append(pre)\n",
        "\n",
        "      def dfs(crs):\n",
        "        if crs in cycle:\n",
        "          return False\n",
        "        if crs in visit:\n",
        "          return True\n",
        "        cycle.add(crs)\n",
        "        for pre in crs_map[crs]:\n",
        "          # dfs(pre) will flush out any cyclic relationships and return False if so\n",
        "          if not dfs(pre): return False\n",
        "        cycle.remove(crs)\n",
        "        visit.add(crs)\n",
        "        course_order.append(crs)\n",
        "        return True\n",
        "\n",
        "      for crs in range(numCourses):\n",
        "        if dfs(crs) == False: return []\n",
        "      return course_order"
      ],
      "metadata": {
        "id": "39C0fhZHP66f"
      },
      "execution_count": null,
      "outputs": []
    },
    {
      "cell_type": "code",
      "source": [
        "# Positive case: [[0,1],[0,2], [1,3], [3,2], [4,0], [5,0]], numCourses = 6, OP = [2,3,1,0,4,5]\n",
        "# Negative case: [[0,1],[0,2], [1,3], [2,0], [3,2], [4,0], [5,0]], numCourses = 6, OP = []\n",
        "# Positive case: [[1,0],[2,0],[3,1],[3,2]], numCourses = 4\n",
        "numCourses = 6\n",
        "prerequisites = [[0,1],[0,2], [1,3], [3,2], [4,0], [5,0]]\n",
        "c = CrsSched()\n",
        "c.findOrder(numCourses, prerequisites)"
      ],
      "metadata": {
        "colab": {
          "base_uri": "https://localhost:8080/"
        },
        "id": "rrbhvCRwP7UI",
        "outputId": "8787b28a-ab5a-4703-8c88-c8838c1dd62e"
      },
      "execution_count": null,
      "outputs": [
        {
          "output_type": "execute_result",
          "data": {
            "text/plain": [
              "[2, 3, 1, 0, 4, 5]"
            ]
          },
          "metadata": {},
          "execution_count": 26
        }
      ]
    },
    {
      "cell_type": "markdown",
      "source": [
        "## Cheapest Flights within K Stops\n",
        "\n",
        "There are n cities connected by some number of flights. You are given an array flights where flights[i] = [fromi, toi, pricei] indicates that there is a flight from city fromi to city toi with cost pricei.\n",
        "\n",
        "You are also given three integers src, dst, and k, return the cheapest price from src to dst with at most k stops. If there is no such route, return -1."
      ],
      "metadata": {
        "id": "KI7vfxiCJV3J"
      }
    },
    {
      "cell_type": "code",
      "source": [
        "class Flights:\n",
        "    def findCheapestPrice(self, n: int, flights: list[list[int]], src: int, dst: int, max_stops: int) -> int:\n",
        "      prices = [float(\"inf\")] * n\n",
        "      prices[src] = 0\n",
        "\n",
        "      for i in range(k+1):\n",
        "        tmpPrices = prices.copy()\n",
        "        # s- source, d- dest, p- prices\n",
        "        for s,d,p in flights:\n",
        "          if prices[s] == float(\"inf\"):\n",
        "            continue\n",
        "          if prices[s] + p < tmpPrices[d]:\n",
        "            tmpPrices[d] = prices[s] + p\n",
        "        prices = tmpPrices\n",
        "      return -1 if prices[dst] == float(\"inf\") else prices[dst]"
      ],
      "metadata": {
        "id": "-ctxPVmYJZy0"
      },
      "execution_count": null,
      "outputs": []
    },
    {
      "cell_type": "code",
      "source": [
        "n = 4\n",
        "flights = [[0,1,100],[1,2,100],[2,0,100],[1,3,600],[2,3,200]]\n",
        "src = 0\n",
        "dst = 3\n",
        "k = 1\n",
        "# Output: 700\n",
        "\n",
        "f = Flights()\n",
        "f.findCheapestPrice(n, flights, src, dst, k)"
      ],
      "metadata": {
        "colab": {
          "base_uri": "https://localhost:8080/"
        },
        "id": "BXvRlOE3KNFP",
        "outputId": "4dea32aa-10c5-480d-8c8b-226e37594a53"
      },
      "execution_count": null,
      "outputs": [
        {
          "output_type": "execute_result",
          "data": {
            "text/plain": [
              "700"
            ]
          },
          "metadata": {},
          "execution_count": 48
        }
      ]
    },
    {
      "cell_type": "markdown",
      "source": [
        "## Alien Dictionary"
      ],
      "metadata": {
        "id": "DeM_34S_dhbx"
      }
    },
    {
      "cell_type": "markdown",
      "source": [
        "## Number of Components in an unconnected Graph"
      ],
      "metadata": {
        "id": "5vHxUboRdVFD"
      }
    },
    {
      "cell_type": "code",
      "source": [],
      "metadata": {
        "id": "p1UrlxXvdYa-"
      },
      "execution_count": null,
      "outputs": []
    },
    {
      "cell_type": "markdown",
      "source": [
        "# Dynamic Programming"
      ],
      "metadata": {
        "id": "Fj3D0X6tG2ML"
      }
    },
    {
      "cell_type": "markdown",
      "source": [
        "## Longest Palindromic Substring"
      ],
      "metadata": {
        "id": "z9HqWyrUG5nq"
      }
    },
    {
      "cell_type": "code",
      "source": [
        "class Palin:\n",
        "  def longestPalin(self, s:str) -> str:\n",
        ""
      ],
      "metadata": {
        "id": "ijX-pOUnG9iB"
      },
      "execution_count": null,
      "outputs": []
    },
    {
      "cell_type": "markdown",
      "source": [
        "## Maximum Subarray\n",
        "\n",
        "Note: Check Kadane's Algorithm"
      ],
      "metadata": {
        "id": "vzVm9VxLupkM"
      }
    },
    {
      "cell_type": "code",
      "source": [
        "class MaxSub():\n",
        "  def subArray(self, nums:list[int]) -> int:\n",
        "    res = nums[0]\n",
        "    total = 0\n",
        "\n",
        "    for n in nums:\n",
        "        total += n\n",
        "        res = max(res, total)\n",
        "        if total < 0:\n",
        "            total = 0\n",
        "    return res"
      ],
      "metadata": {
        "id": "lycNVcbjusZK"
      },
      "execution_count": null,
      "outputs": []
    },
    {
      "cell_type": "code",
      "source": [
        "ip = [-2, 1, -3, 4, -1, 2, 1, -5, 4]\n",
        "#                                 n\n",
        "# res = 6, total = 5"
      ],
      "metadata": {
        "id": "DiI2Kmm4uUCw"
      },
      "execution_count": null,
      "outputs": []
    },
    {
      "cell_type": "markdown",
      "source": [
        "# BFS/DFS"
      ],
      "metadata": {
        "id": "t6pIoL8pUNDI"
      }
    },
    {
      "cell_type": "code",
      "source": [
        "from collections import deque\n",
        "\n",
        "class Graph:\n",
        "  def __init__(self):\n",
        "    self.graph = {}\n",
        "\n",
        "  def add_edge(self, u, v):\n",
        "    if u not in self.graph:\n",
        "      self.graph[u] = []\n",
        "    self.graph[u].append(v)\n",
        "\n",
        "  def bfs(self, start):\n",
        "    visited = set()\n",
        "    q = deque([start])\n",
        "    visited.add(start)\n",
        "    while q:\n",
        "      node = q.popleft()\n",
        "      print(node, end=\" \")\n",
        "\n",
        "      for neighbor in self.graph.get(node,[]):\n",
        "        print(\"\\n Neighbor \", neighbor)\n",
        "        if neighbor not in visited:\n",
        "          q.append(neighbor)\n",
        "          visited.add(neighbor)\n"
      ],
      "metadata": {
        "id": "XhKFJYfkUY-B"
      },
      "execution_count": null,
      "outputs": []
    },
    {
      "cell_type": "code",
      "source": [
        "g = Graph()\n",
        "g.add_edge(0, 1)\n",
        "g.add_edge(0, 2)\n",
        "g.add_edge(1, 2)\n",
        "g.add_edge(2, 0)\n",
        "g.add_edge(2, 3)\n",
        "g.add_edge(3, 3)\n",
        "\n",
        "print(\"BFS starting from node 2:\")\n",
        "g.bfs(2)"
      ],
      "metadata": {
        "colab": {
          "base_uri": "https://localhost:8080/",
          "height": 231
        },
        "id": "KK9G56RIcD61",
        "outputId": "a26075f9-6327-4b1c-84e7-00138909caf7"
      },
      "execution_count": null,
      "outputs": [
        {
          "output_type": "error",
          "ename": "NameError",
          "evalue": "name 'Graph' is not defined",
          "traceback": [
            "\u001b[0;31m---------------------------------------------------------------------------\u001b[0m",
            "\u001b[0;31mNameError\u001b[0m                                 Traceback (most recent call last)",
            "\u001b[0;32m<ipython-input-15-d809da85db9b>\u001b[0m in \u001b[0;36m<cell line: 1>\u001b[0;34m()\u001b[0m\n\u001b[0;32m----> 1\u001b[0;31m \u001b[0mg\u001b[0m \u001b[0;34m=\u001b[0m \u001b[0mGraph\u001b[0m\u001b[0;34m(\u001b[0m\u001b[0;34m)\u001b[0m\u001b[0;34m\u001b[0m\u001b[0;34m\u001b[0m\u001b[0m\n\u001b[0m\u001b[1;32m      2\u001b[0m \u001b[0mg\u001b[0m\u001b[0;34m.\u001b[0m\u001b[0madd_edge\u001b[0m\u001b[0;34m(\u001b[0m\u001b[0;36m0\u001b[0m\u001b[0;34m,\u001b[0m \u001b[0;36m1\u001b[0m\u001b[0;34m)\u001b[0m\u001b[0;34m\u001b[0m\u001b[0;34m\u001b[0m\u001b[0m\n\u001b[1;32m      3\u001b[0m \u001b[0mg\u001b[0m\u001b[0;34m.\u001b[0m\u001b[0madd_edge\u001b[0m\u001b[0;34m(\u001b[0m\u001b[0;36m0\u001b[0m\u001b[0;34m,\u001b[0m \u001b[0;36m2\u001b[0m\u001b[0;34m)\u001b[0m\u001b[0;34m\u001b[0m\u001b[0;34m\u001b[0m\u001b[0m\n\u001b[1;32m      4\u001b[0m \u001b[0mg\u001b[0m\u001b[0;34m.\u001b[0m\u001b[0madd_edge\u001b[0m\u001b[0;34m(\u001b[0m\u001b[0;36m1\u001b[0m\u001b[0;34m,\u001b[0m \u001b[0;36m2\u001b[0m\u001b[0;34m)\u001b[0m\u001b[0;34m\u001b[0m\u001b[0;34m\u001b[0m\u001b[0m\n\u001b[1;32m      5\u001b[0m \u001b[0mg\u001b[0m\u001b[0;34m.\u001b[0m\u001b[0madd_edge\u001b[0m\u001b[0;34m(\u001b[0m\u001b[0;36m2\u001b[0m\u001b[0;34m,\u001b[0m \u001b[0;36m0\u001b[0m\u001b[0;34m)\u001b[0m\u001b[0;34m\u001b[0m\u001b[0;34m\u001b[0m\u001b[0m\n",
            "\u001b[0;31mNameError\u001b[0m: name 'Graph' is not defined"
          ]
        }
      ]
    },
    {
      "cell_type": "code",
      "source": [
        "\n",
        "class Graph:\n",
        "    def __init__(self):\n",
        "        self.graph = {}\n",
        "\n",
        "    def add_edge(self, u, v):\n",
        "        if u not in self.graph:\n",
        "            self.graph[u] = []\n",
        "        self.graph[u].append(v)\n",
        "\n",
        "    def dfs_util(self, v, visited):\n",
        "        visited.add(v)\n",
        "        print(v, end=\" \")\n",
        "\n",
        "        for neighbor in self.graph.get(v, []):\n",
        "            if neighbor not in visited:\n",
        "                self.dfs_util(neighbor, visited)\n",
        "\n",
        "    def dfs(self, start):\n",
        "        visited = set()\n",
        "        self.dfs_util(start, visited)\n",
        "\n",
        "# Example usage\n",
        "g = Graph()\n",
        "g.add_edge(0, 1)\n",
        "g.add_edge(0, 2)\n",
        "g.add_edge(1, 2)\n",
        "g.add_edge(2, 0)\n",
        "g.add_edge(2, 3)\n",
        "g.add_edge(3, 3)\n",
        "\n",
        "print(\"DFS starting from node 2:\")\n",
        "g.dfs(2)\n"
      ],
      "metadata": {
        "colab": {
          "base_uri": "https://localhost:8080/"
        },
        "id": "-SkryvUVUPZL",
        "outputId": "ab0d457d-ef8f-4b64-8d75-1688ca953c08"
      },
      "execution_count": null,
      "outputs": [
        {
          "output_type": "stream",
          "name": "stdout",
          "text": [
            "BFS starting from node 2:\n",
            "2 0 3 1 DFS starting from node 2:\n",
            "2 0 1 3 "
          ]
        }
      ]
    },
    {
      "cell_type": "markdown",
      "source": [
        "# Binary Search\n",
        "\n",
        "Given an array of integers nums which is sorted in ascending order, and an integer target, write a function to search target in nums. If target exists, then return its index. Otherwise, return -1.\n",
        "\n",
        "You must write an algorithm with O(log n) runtime complexity.\n",
        "\n",
        "\n",
        "\n",
        "Example 1:\n",
        "\n",
        "Input: nums = [-1,0,3,5,9,12], target = 9\n",
        "\n",
        "Output: 4\n",
        "\n",
        "Explanation: 9 exists in nums and its index is 4\n"
      ],
      "metadata": {
        "id": "53GjZdlzNaAd"
      }
    },
    {
      "cell_type": "code",
      "source": [
        "class BinSearch:\n",
        "    def search(self, nums: list[int], target: int) -> int:\n",
        "      left = 0\n",
        "      right = len(nums) - 1\n",
        "      while left <= right:\n",
        "        mid = left + (right-left)//2\n",
        "        if nums[mid] == target:\n",
        "          return mid\n",
        "        elif nums[mid] < target:\n",
        "          left = mid + 1\n",
        "        elif nums[mid] > target:\n",
        "          right = mid - 1\n",
        "      return -1"
      ],
      "metadata": {
        "id": "_Sn5ljR0Nehl"
      },
      "execution_count": null,
      "outputs": []
    },
    {
      "cell_type": "code",
      "source": [
        "nums = [-1,0,3,5,9,12]\n",
        "target = 9\n",
        "b = BinSearch()\n",
        "b.search(nums, target)"
      ],
      "metadata": {
        "colab": {
          "base_uri": "https://localhost:8080/"
        },
        "id": "_4XrkDQuOvpB",
        "outputId": "7a32be1f-7d98-41a3-8c1d-ea9debeade4f"
      },
      "execution_count": null,
      "outputs": [
        {
          "output_type": "execute_result",
          "data": {
            "text/plain": [
              "4"
            ]
          },
          "metadata": {},
          "execution_count": 21
        }
      ]
    },
    {
      "cell_type": "markdown",
      "source": [
        "# Decorators\n",
        "\n",
        "Calculate the time taken for a function"
      ],
      "metadata": {
        "id": "fu1FxugnAxdo"
      }
    },
    {
      "cell_type": "code",
      "source": [
        "import time\n",
        "import math\n",
        "\n",
        "# Pass func as an argument. This can be any function\n",
        "def calc_time(func):\n",
        "\n",
        "  def inner_func(*args, **kwargs):\n",
        "    beg = time.time()\n",
        "    func(*args, **kwargs)\n",
        "    end = time.time()\n",
        "    tt = end - beg\n",
        "    #print(\"Time Taken : \", )\n",
        "    return tt\n",
        "\n",
        "  return inner_func\n",
        "\n",
        "@calc_time\n",
        "def factorials(n):\n",
        "  time.sleep(1)\n",
        "  math.factorial(n)\n",
        "\n",
        "time_taken = factorials(100)\n",
        "print(time_taken)"
      ],
      "metadata": {
        "colab": {
          "base_uri": "https://localhost:8080/"
        },
        "id": "DGvPnAknBBG_",
        "outputId": "2b5fced2-03e9-4d22-be09-41b2a226dc88"
      },
      "execution_count": null,
      "outputs": [
        {
          "output_type": "stream",
          "name": "stdout",
          "text": [
            "1.0011529922485352\n"
          ]
        }
      ]
    },
    {
      "cell_type": "markdown",
      "source": [
        "# Interviews\n"
      ],
      "metadata": {
        "id": "cWTt15SUul8q"
      }
    },
    {
      "cell_type": "code",
      "source": [
        "# Class to add and subtract\n",
        "class Math:\n",
        "\n",
        "\tdef __init__(self, y=None, z=None):\n",
        "\t\t# Class Variable\n",
        "\t\tself.x = 1\n",
        "\t\tself.y = y\n",
        "\t\tself.z = z\n",
        "\n",
        "\tdef add(self):\n",
        "\t\tself.sum  = self.x + self.y + self.z\n",
        "\t\treturn self.sum\n",
        "\n",
        "\tdef subtract (self, usr_inp):\n",
        "\t\tself.usr_inp = usr_inp\n",
        "\t\tif self.y is not None:\n",
        "\t\t\tself.diff = self.usr_inp - self.y\n",
        "\t\telse:\n",
        "\t\t\tself.diff = self.usr_inp - self.x\n",
        "\n",
        "class NewMath(Math):\n",
        "  def __init__(self, z, x = 1):\n",
        "    self.z = z\n",
        "    self.x = x\n",
        "  def add(self):\n",
        "    self.sum = self.z + self.x\n",
        "    print(self.sum)\n",
        "\n",
        "\n",
        "m = Math(1,2)\n",
        "mm = NewMath(3,4)\n",
        "print(m.x)\n",
        "print(mm.x)\n",
        "print(mm.add())"
      ],
      "metadata": {
        "colab": {
          "base_uri": "https://localhost:8080/"
        },
        "id": "TGd65N10UUqT",
        "outputId": "5021c4ce-1244-434d-f29a-dcfe2f4f1e89"
      },
      "execution_count": null,
      "outputs": [
        {
          "output_type": "stream",
          "name": "stdout",
          "text": [
            "1\n",
            "4\n",
            "7\n",
            "None\n"
          ]
        }
      ]
    },
    {
      "cell_type": "code",
      "source": [],
      "metadata": {
        "id": "LLlLBKryOBnh"
      },
      "execution_count": null,
      "outputs": []
    },
    {
      "cell_type": "markdown",
      "source": [
        "# CS\n"
      ],
      "metadata": {
        "id": "XWMQWyaBRNe-"
      }
    },
    {
      "cell_type": "code",
      "source": [],
      "metadata": {
        "id": "873lv_-5RMot"
      },
      "execution_count": null,
      "outputs": []
    }
  ]
}