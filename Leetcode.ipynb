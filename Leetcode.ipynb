{
  "nbformat": 4,
  "nbformat_minor": 0,
  "metadata": {
    "colab": {
      "provenance": [],
      "authorship_tag": "ABX9TyNm+DeI3S1CsjrKJ+UwhYfE",
      "include_colab_link": true
    },
    "kernelspec": {
      "name": "python3",
      "display_name": "Python 3"
    },
    "language_info": {
      "name": "python"
    }
  },
  "cells": [
    {
      "cell_type": "markdown",
      "metadata": {
        "id": "view-in-github",
        "colab_type": "text"
      },
      "source": [
        "<a href=\"https://colab.research.google.com/github/aowais2/leetcode/blob/main/Leetcode.ipynb\" target=\"_parent\"><img src=\"https://colab.research.google.com/assets/colab-badge.svg\" alt=\"Open In Colab\"/></a>"
      ]
    },
    {
      "cell_type": "markdown",
      "source": [
        "# Arrays and Hashing"
      ],
      "metadata": {
        "id": "khO7gnRYnnYP"
      }
    },
    {
      "cell_type": "markdown",
      "source": [
        "Contains Dupicates\n",
        "\n",
        "Given an integer array nums, return true if any value appears at least twice in the array, and return false if every element is distinct.\n",
        "\n",
        "Example 1:\n",
        "\n",
        "Input: nums = [1,2,3,1]\n",
        "Output: true\n",
        "Example 2:\n",
        "\n",
        "Input: nums = [1,2,3,4]\n",
        "Output: false\n",
        "Example 3:\n",
        "\n",
        "Input: nums = [1,1,1,3,3,4,3,2,4,2]\n",
        "Output: true"
      ],
      "metadata": {
        "id": "uSPAiS5JnvZW"
      }
    },
    {
      "cell_type": "code",
      "source": [
        "class Solution:\n",
        "    def containsDuplicate(self, nums: List[int]) -> bool:\n",
        "      unique_values = set()\n",
        "      for num in nums:\n",
        "        if num in unique_values:\n",
        "          return true\n",
        "        unique_values.add(num)\n",
        "      return false"
      ],
      "metadata": {
        "id": "od__pOxon8ej"
      },
      "execution_count": null,
      "outputs": []
    }
  ]
}