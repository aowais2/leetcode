{
  "nbformat": 4,
  "nbformat_minor": 0,
  "metadata": {
    "colab": {
      "provenance": [],
      "authorship_tag": "ABX9TyM2g0lWII0mzhGB/4DcYHpe",
      "include_colab_link": true
    },
    "kernelspec": {
      "name": "python3",
      "display_name": "Python 3"
    },
    "language_info": {
      "name": "python"
    }
  },
  "cells": [
    {
      "cell_type": "markdown",
      "metadata": {
        "id": "view-in-github",
        "colab_type": "text"
      },
      "source": [
        "<a href=\"https://colab.research.google.com/github/aowais2/leetcode/blob/main/Leetcode.ipynb\" target=\"_parent\"><img src=\"https://colab.research.google.com/assets/colab-badge.svg\" alt=\"Open In Colab\"/></a>"
      ]
    },
    {
      "cell_type": "markdown",
      "source": [
        "*   Python Concepts: Decorators, Polymorphism, Abstraction, Overloading, Walrus Operators, abstract class, lambda functions, Call by value, ref, object ref\n",
        "*  Data Structures: Stack, Q, Tree, Heap, Hash maps, Graphs\n",
        "*  Algorithms: Sort, Search, DP (memoization, tabulation), Graph algo, Recursion\n",
        "*  Systems Design: Design Patterns\n",
        "\n",
        "\n"
      ],
      "metadata": {
        "id": "lfWetmia8Wjw"
      }
    },
    {
      "cell_type": "markdown",
      "source": [
        "# Arrays and Hashing"
      ],
      "metadata": {
        "id": "khO7gnRYnnYP"
      }
    },
    {
      "cell_type": "markdown",
      "source": [
        "**Contains Dupicates**\n",
        "\n",
        "Given an integer array nums, return true if any value appears at least twice in the array, and return false if every element is distinct.\n",
        "\n",
        "Example 1:\n",
        "Input: nums = [1,2,3,1]\n",
        "Output: true\n",
        "\n",
        "Example 2:\n",
        "Input: nums = [1,2,3,4]\n",
        "Output: false\n",
        "\n",
        "Example 3:\n",
        "Input: nums = [1,1,1,3,3,4,3,2,4,2]\n",
        "Output: true"
      ],
      "metadata": {
        "id": "uSPAiS5JnvZW"
      }
    },
    {
      "cell_type": "code",
      "source": [
        "class Duplicates:\n",
        "    def containsDuplicate(self, nums: list[int]) -> bool:\n",
        "      unique_values = set()\n",
        "      for num in nums:\n",
        "        if num in unique_values:\n",
        "          return True\n",
        "        unique_values.add(num)\n",
        "      return False"
      ],
      "metadata": {
        "id": "od__pOxon8ej"
      },
      "execution_count": null,
      "outputs": []
    },
    {
      "cell_type": "code",
      "source": [
        "# Create a set of unique values\n",
        "# If another occurrence of values in the set occurs, there is a duplicate\n",
        "\n",
        "nums = [1,1,1,3,3,4,3,2,4,2]\n",
        "dup = Duplicates()\n",
        "dup.containsDuplicate(nums)"
      ],
      "metadata": {
        "colab": {
          "base_uri": "https://localhost:8080/"
        },
        "id": "DVxiYcirsPE0",
        "outputId": "e0b12826-8935-4f9f-efbb-a816260db6bc"
      },
      "execution_count": null,
      "outputs": [
        {
          "output_type": "execute_result",
          "data": {
            "text/plain": [
              "True"
            ]
          },
          "metadata": {},
          "execution_count": 32
        }
      ]
    },
    {
      "cell_type": "markdown",
      "source": [
        "**Valid Anagram**\n",
        "\n",
        "Given two strings s and t, return true if t is an anagram of s, and false otherwise.\n",
        "\n",
        "An Anagram is a word or phrase formed by rearranging the letters of a different word or phrase, typically using all the original letters exactly once.\n",
        "\n",
        "Example 1:\n",
        "\n",
        "Input: s = \"anagram\", t = \"nagaram\"\n",
        "Output: true\n",
        "\n",
        "Example 2:\n",
        "Input: s = \"rat\", t = \"car\"\n",
        "Output: false"
      ],
      "metadata": {
        "id": "99a6z4EEszau"
      }
    },
    {
      "cell_type": "code",
      "source": [
        "class Solution:\n",
        "    def isAnagram(self, s: str, t: str) -> bool:\n",
        "      if len(s) != len(t):\n",
        "        return False\n",
        "      s_dict = {}\n",
        "      for letter in s:\n",
        "        s_dict[letter] = s_dict.get(letter , 0) + 1\n",
        "      print(s_dict)\n",
        "\n",
        "      for char in t:\n",
        "        if char not in s_dict or s_dict[char] == 0:\n",
        "          return False\n",
        "        s_dict[char] =- 1\n",
        "\n",
        "      return True\n"
      ],
      "metadata": {
        "id": "vXf4JC8wvPEl"
      },
      "execution_count": 2,
      "outputs": []
    },
    {
      "cell_type": "code",
      "source": [
        "s = \"rut\"\n",
        "t = \"tue\"\n",
        "\n",
        "# Length of the 2 str should be the same\n",
        "# Find freq of occurrence of each char in one str using get() and save in dict\n",
        "# Check if freq is same in the other str by subtracting every char occurrence\n",
        "# from the freq in dict\n",
        "\n",
        "sltn = Solution()\n",
        "sltn.isAnagram(s,t)"
      ],
      "metadata": {
        "colab": {
          "base_uri": "https://localhost:8080/"
        },
        "id": "3X1tdAbmwCt5",
        "outputId": "39654ea8-bd97-4dc8-be58-c5db5a1408ef"
      },
      "execution_count": 5,
      "outputs": [
        {
          "output_type": "stream",
          "name": "stdout",
          "text": [
            "{'r': 1, 'u': 1, 't': 1}\n"
          ]
        },
        {
          "output_type": "execute_result",
          "data": {
            "text/plain": [
              "False"
            ]
          },
          "metadata": {},
          "execution_count": 5
        }
      ]
    },
    {
      "cell_type": "markdown",
      "source": [
        "**Two Sum**\n",
        "\n",
        "Given an array of integers nums and an integer target, return indices of the two numbers such that they add up to target.\n",
        "\n",
        "You may assume that each input would have exactly one solution, and you may not use the same element twice.\n",
        "\n",
        "You can return the answer in any order.\n",
        "\n",
        "Example 1:\n",
        "\n",
        "Input: nums = [2,7,11,15], target = 9\n",
        "Output: [0,1]\n",
        "Explanation: Because nums[0] + nums[1] == 9, we return [0, 1].\n",
        "\n",
        "Example 2:\n",
        "\n",
        "Input: nums = [3,2,4], target = 6\n",
        "Output: [1,2]"
      ],
      "metadata": {
        "id": "ejUcyUTwJHUB"
      }
    },
    {
      "cell_type": "code",
      "source": [
        "class TwoSum:\n",
        "    def twoSum(self, nums, target):\n",
        "      prev_nums = {}\n",
        "      for i,n in enumerate(nums):\n",
        "        diff = target - n\n",
        "        if diff in prev_nums:\n",
        "          print(prev_nums, prev_nums[diff], diff)\n",
        "          return [prev_nums[diff], i]\n",
        "        prev_nums[n] = i\n"
      ],
      "metadata": {
        "id": "k6JK2bveJUIc"
      },
      "execution_count": 6,
      "outputs": []
    },
    {
      "cell_type": "code",
      "source": [
        "nums = [2,11,7,15]\n",
        "target = 9\n",
        "\n",
        "# Store every parsed element in for loop in dict\n",
        "# Store it as key:value pair with key = number, value = index\n",
        "# Find the difference to target from current number\n",
        "# Check if the difference is a value in the key:value pairs of the dict\n",
        "\n",
        "soltn = TwoSum()\n",
        "soltn.twoSum(nums,target)"
      ],
      "metadata": {
        "colab": {
          "base_uri": "https://localhost:8080/"
        },
        "id": "I-TO8Q1TJY7P",
        "outputId": "71d29f29-bfd5-48eb-c1e1-abbcf00a1fbd"
      },
      "execution_count": 8,
      "outputs": [
        {
          "output_type": "stream",
          "name": "stdout",
          "text": [
            "{2: 0, 11: 1} 0 2\n"
          ]
        },
        {
          "output_type": "execute_result",
          "data": {
            "text/plain": [
              "[0, 2]"
            ]
          },
          "metadata": {},
          "execution_count": 8
        }
      ]
    },
    {
      "cell_type": "markdown",
      "source": [
        "**Group Anagrams**\n",
        "\n",
        "Given an array of strings strs, group the anagrams together. You can return the answer in any order.\n",
        "\n",
        "An Anagram is a word or phrase formed by rearranging the letters of a different word or phrase, typically using all the original letters exactly once.\n",
        "\n",
        "\n",
        "\n",
        "Example 1:\n",
        "\n",
        "Input: strs = [\"eat\",\"tea\",\"tan\",\"ate\",\"nat\",\"bat\"]\n",
        "Output: [[\"bat\"],[\"nat\",\"tan\"],[\"ate\",\"eat\",\"tea\"]]\n",
        "\n",
        "Example 2:\n",
        "\n",
        "Input: strs = [\"\"]\n",
        "Output: [[\"\"]]\n",
        "\n",
        "Example 3:\n",
        "\n",
        "Input: strs = [\"a\"]\n",
        "Output: [[\"a\"]]"
      ],
      "metadata": {
        "id": "Ybp6YbrzUY2_"
      }
    },
    {
      "cell_type": "code",
      "source": [
        "class Solution:\n",
        "    def groupAnagrams(self, strs: list[str]) -> list[list[str]]:\n",
        "      anagram_map = {}\n",
        "\n",
        "      for word in strs:\n",
        "        sorted_word = \"\".join(sorted(word))\n",
        "        if sorted_word in anagram_map:\n",
        "          anagram_map[sorted_word].append(word)\n",
        "        else:\n",
        "          anagram_map[sorted_word] = [word]\n",
        "\n",
        "      return list(anagram_map.values())"
      ],
      "metadata": {
        "id": "5SprHQSSpD16"
      },
      "execution_count": null,
      "outputs": []
    },
    {
      "cell_type": "code",
      "source": [
        "strs = [\"eat\",\"tea\",\"tan\",\"ate\",\"nat\",\"bat\"]\n",
        "\n",
        "# Sort words\n",
        "# Create new key:value pair in dict for the sorted word\n",
        "# If another similar sorted word exists, append to the key:value pair as list\n",
        "# else make separate list for that word alone\n",
        "\n",
        "grpA = Solution()\n",
        "grpA.groupAnagrams(strs)"
      ],
      "metadata": {
        "colab": {
          "base_uri": "https://localhost:8080/"
        },
        "id": "31FIsLm1UgaJ",
        "outputId": "6804fb26-690a-468e-b937-592e8ac49cdb"
      },
      "execution_count": null,
      "outputs": [
        {
          "output_type": "execute_result",
          "data": {
            "text/plain": [
              "[['eat', 'tea', 'ate'], ['tan', 'nat'], ['bat']]"
            ]
          },
          "metadata": {},
          "execution_count": 29
        }
      ]
    },
    {
      "cell_type": "markdown",
      "source": [
        "**Top K elements**\n",
        "\n",
        "Given an integer array nums and an integer k, return the k most frequent elements. You may return the answer in any order.\n",
        "\n",
        "\n",
        "\n",
        "Example 1:\n",
        "\n",
        "Input: nums = [1,1,1,2,2,3], k = 2\n",
        "Output: [1,2]\n",
        "\n",
        "Example 2:\n",
        "\n",
        "Input: nums = [1], k = 1\n",
        "Output: [1]"
      ],
      "metadata": {
        "id": "3yxRWwElrIrw"
      }
    },
    {
      "cell_type": "code",
      "source": [
        "class Solution:\n",
        "    def topKFrequent(self, nums: List[int], k: int) -> List[int]:\n"
      ],
      "metadata": {
        "id": "F5te_D9WrMJJ"
      },
      "execution_count": null,
      "outputs": []
    },
    {
      "cell_type": "code",
      "source": [
        "nums = [1,1,1,2,2,3]\n",
        "k = 2\n",
        "\n",
        "frequency_map = {}\n",
        "for num in nums:\n",
        "  frequency_map[num] = frequency_map.get(num,0) + 1"
      ],
      "metadata": {
        "id": "wiEZsE_ijlbS"
      },
      "execution_count": null,
      "outputs": []
    },
    {
      "cell_type": "markdown",
      "source": [
        "**Valid Palindrome**\n",
        "\n",
        "A phrase is a palindrome if, after converting all uppercase letters into lowercase letters and removing all non-alphanumeric characters, it reads the same forward and backward. Alphanumeric characters include letters and numbers.\n",
        "\n",
        "Given a string s, return true if it is a palindrome, or false otherwise.\n",
        "\n",
        "Example 1:\n",
        "\n",
        "Input: s = \"A man, a plan, a canal: Panama\"\n",
        "\n",
        "Output: true\n",
        "\n",
        "Explanation: \"amanaplanacanalpanama\" is a palindrome.\n"
      ],
      "metadata": {
        "id": "aZzJrlcuCa8c"
      }
    },
    {
      "cell_type": "code",
      "source": [
        "class Solution:\n",
        "    def isPalindrome(self, s: str) -> bool:\n",
        "      left = 0\n",
        "      right = len(s) - 1\n",
        "      # Needs to handle isalnum and tolower cases\n",
        "      while left < right:\n",
        "        if s[left] != s[right]:\n",
        "          return false\n",
        "        left+=1\n",
        "        right-=1\n",
        "      return true"
      ],
      "metadata": {
        "id": "N5SYmiK4Cjwu"
      },
      "execution_count": null,
      "outputs": []
    },
    {
      "cell_type": "code",
      "source": [
        " s = \"A man, a plan, a canal: Panama\"\n",
        "s = Solution()\n",
        "s.isPalindrome(s)"
      ],
      "metadata": {
        "id": "SGl1ztFtK6Qp"
      },
      "execution_count": null,
      "outputs": []
    },
    {
      "cell_type": "markdown",
      "source": [
        "**3Sum**\n",
        "\n",
        "Given an integer array nums, return all the triplets [nums[i], nums[j], nums[k]] such that i != j, i != k, and j != k, and nums[i] + nums[j] + nums[k] == 0.\n",
        "\n",
        "Notice that the solution set must not contain duplicate triplets.\n",
        "\n",
        "Example 1:\n",
        "\n",
        "Input: nums = [-1,0,1,2,-1,-4]\n",
        "\n",
        "Output: [[-1,-1,2],[-1,0,1]]"
      ],
      "metadata": {
        "id": "tb8q4LW9Li6Z"
      }
    },
    {
      "cell_type": "code",
      "source": [],
      "metadata": {
        "id": "4S-KzQt-LtLh"
      },
      "execution_count": null,
      "outputs": []
    },
    {
      "cell_type": "markdown",
      "source": [
        "**Binary Search**\n",
        "\n",
        "Given an array of integers nums which is sorted in ascending order, and an integer target, write a function to search target in nums. If target exists, then return its index. Otherwise, return -1.\n",
        "\n",
        "You must write an algorithm with O(log n) runtime complexity.\n",
        "\n",
        "\n",
        "\n",
        "Example 1:\n",
        "\n",
        "Input: nums = [-1,0,3,5,9,12], target = 9\n",
        "\n",
        "Output: 4\n",
        "\n",
        "Explanation: 9 exists in nums and its index is 4\n"
      ],
      "metadata": {
        "id": "53GjZdlzNaAd"
      }
    },
    {
      "cell_type": "code",
      "source": [
        "class BinSearch:\n",
        "    def search(self, nums: list[int], target: int) -> int:\n",
        "      left = 0\n",
        "      right = len(nums) - 1\n",
        "      while left <= right:\n",
        "        mid = left + (right-left)//2\n",
        "        if nums[mid] == target:\n",
        "          return mid\n",
        "        elif nums[mid] < target:\n",
        "          left = mid + 1\n",
        "        elif nums[mid] > target:\n",
        "          right = mid - 1\n",
        "      return -1"
      ],
      "metadata": {
        "id": "_Sn5ljR0Nehl"
      },
      "execution_count": 22,
      "outputs": []
    },
    {
      "cell_type": "code",
      "source": [
        "nums = [-1,0,3,5,9,12]\n",
        "target = 9\n",
        "b = BinSearch()\n",
        "b.search(nums, target)"
      ],
      "metadata": {
        "colab": {
          "base_uri": "https://localhost:8080/"
        },
        "id": "_4XrkDQuOvpB",
        "outputId": "7a32be1f-7d98-41a3-8c1d-ea9debeade4f"
      },
      "execution_count": 21,
      "outputs": [
        {
          "output_type": "execute_result",
          "data": {
            "text/plain": [
              "4"
            ]
          },
          "metadata": {},
          "execution_count": 21
        }
      ]
    },
    {
      "cell_type": "markdown",
      "source": [
        "**Decorators**\n",
        "\n",
        "Calculate the time taken for a function"
      ],
      "metadata": {
        "id": "fu1FxugnAxdo"
      }
    },
    {
      "cell_type": "code",
      "source": [
        "import time\n",
        "import math\n",
        "\n",
        "# Pass func as an argument. This can be any function\n",
        "def calc_time(func):\n",
        "\n",
        "  def inner_func(*args, **kwargs):\n",
        "    beg = time.time()\n",
        "    func(*args, **kwargs)\n",
        "    end = time.time()\n",
        "    tt = end - beg\n",
        "    #print(\"Time Taken : \", )\n",
        "    return tt\n",
        "\n",
        "  return inner_func\n",
        "\n",
        "@calc_time\n",
        "def factorials(n):\n",
        "  time.sleep(1)\n",
        "  math.factorial(n)\n",
        "\n",
        "time_taken = factorials(100)\n",
        "print(time_taken)"
      ],
      "metadata": {
        "colab": {
          "base_uri": "https://localhost:8080/"
        },
        "id": "DGvPnAknBBG_",
        "outputId": "2b5fced2-03e9-4d22-be09-41b2a226dc88"
      },
      "execution_count": null,
      "outputs": [
        {
          "output_type": "stream",
          "name": "stdout",
          "text": [
            "1.0011529922485352\n"
          ]
        }
      ]
    },
    {
      "cell_type": "markdown",
      "source": [
        "**Ford**"
      ],
      "metadata": {
        "id": "cWTt15SUul8q"
      }
    },
    {
      "cell_type": "code",
      "source": [
        "# Class to add and subtract\n",
        "class Math:\n",
        "\n",
        "\tdef __init__(self, y=None, z=None):\n",
        "\t\t# Class Variable\n",
        "\t\tself.x = 1\n",
        "\t\tself.y = y\n",
        "\t\tself.z = z\n",
        "\n",
        "\tdef add(self):\n",
        "\t\tself.sum  = self.x + self.y + self.z\n",
        "\t\treturn self.sum\n",
        "\n",
        "\tdef subtract (self, usr_inp):\n",
        "\t\tself.usr_inp = usr_inp\n",
        "\t\tif self.y is not None:\n",
        "\t\t\tself.diff = self.usr_inp - self.y\n",
        "\t\telse:\n",
        "\t\t\tself.diff = self.usr_inp - self.x\n",
        "\n",
        "class NewMath(Math):\n",
        "  def __init__(self, z, x = 1):\n",
        "    self.z = z\n",
        "    self.x = x\n",
        "  def add(self):\n",
        "    self.sum = self.z + self.x\n",
        "    print(self.sum)\n",
        "\n",
        "\n",
        "m = Math(1,2)\n",
        "mm = NewMath(3,4)\n",
        "print(m.x)\n",
        "print(mm.x)\n",
        "print(mm.add())"
      ],
      "metadata": {
        "colab": {
          "base_uri": "https://localhost:8080/"
        },
        "id": "TGd65N10UUqT",
        "outputId": "5021c4ce-1244-434d-f29a-dcfe2f4f1e89"
      },
      "execution_count": null,
      "outputs": [
        {
          "output_type": "stream",
          "name": "stdout",
          "text": [
            "1\n",
            "4\n",
            "7\n",
            "None\n"
          ]
        }
      ]
    }
  ]
}